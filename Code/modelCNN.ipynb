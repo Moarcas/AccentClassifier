{
  "nbformat": 4,
  "nbformat_minor": 0,
  "metadata": {
    "colab": {
      "provenance": [],
      "gpuType": "T4",
      "authorship_tag": "ABX9TyOCZ+9Y7Y0UFPYmkiblQSIW",
      "include_colab_link": true
    },
    "kernelspec": {
      "name": "python3",
      "display_name": "Python 3"
    },
    "language_info": {
      "name": "python"
    },
    "accelerator": "GPU"
  },
  "cells": [
    {
      "cell_type": "markdown",
      "metadata": {
        "id": "view-in-github",
        "colab_type": "text"
      },
      "source": [
        "<a href=\"https://colab.research.google.com/github/Moarcas/AccentClassifier/blob/master/Code/modelCNN.ipynb\" target=\"_parent\"><img src=\"https://colab.research.google.com/assets/colab-badge.svg\" alt=\"Open In Colab\"/></a>"
      ]
    },
    {
      "cell_type": "markdown",
      "source": [
        "## Imports"
      ],
      "metadata": {
        "id": "maez1obb8AQN"
      }
    },
    {
      "cell_type": "code",
      "execution_count": null,
      "metadata": {
        "id": "DWWUO0_i77vu"
      },
      "outputs": [],
      "source": [
        "from google.colab import drive\n",
        "\n",
        "from torch.utils.data import Dataset, DataLoader\n",
        "import torch\n",
        "from torch import nn\n",
        "import torch.nn.functional as F\n",
        "\n",
        "from sklearn.metrics import confusion_matrix\n",
        "\n",
        "import numpy as np\n",
        "\n",
        "import matplotlib.pyplot as plt\n",
        "import seaborn as sn\n",
        "import pandas as pd\n",
        "\n",
        "from tqdm import tqdm"
      ]
    },
    {
      "cell_type": "markdown",
      "source": [
        "## Mount google drive"
      ],
      "metadata": {
        "id": "9-6dK5-P8J2D"
      }
    },
    {
      "cell_type": "code",
      "source": [
        "drive.mount('/content/drive/')"
      ],
      "metadata": {
        "colab": {
          "base_uri": "https://localhost:8080/"
        },
        "id": "QOhdzydT8Lip",
        "outputId": "0abf6c34-d65a-4aa4-bdd5-483e55ef51a7"
      },
      "execution_count": null,
      "outputs": [
        {
          "output_type": "stream",
          "name": "stdout",
          "text": [
            "Mounted at /content/drive/\n"
          ]
        }
      ]
    },
    {
      "cell_type": "markdown",
      "source": [
        "## Select device"
      ],
      "metadata": {
        "id": "Mln2GgCNKBUA"
      }
    },
    {
      "cell_type": "code",
      "source": [
        "device = torch.device('cuda') if torch.cuda.is_available() else torch.device('cpu')\n",
        "print(\"Training on\", device)"
      ],
      "metadata": {
        "colab": {
          "base_uri": "https://localhost:8080/"
        },
        "id": "hS-zNBPEKDYB",
        "outputId": "d8ea4f2b-88ee-481a-a757-685f618f34ea"
      },
      "execution_count": null,
      "outputs": [
        {
          "output_type": "stream",
          "name": "stdout",
          "text": [
            "Training on cuda\n"
          ]
        }
      ]
    },
    {
      "cell_type": "markdown",
      "source": [
        "## Dataset class"
      ],
      "metadata": {
        "id": "XCXdzlBN8d7V"
      }
    },
    {
      "cell_type": "code",
      "source": [
        "class AudioDataset(Dataset):\n",
        "    def __init__(self, mfcc_filepath, labels_filepath):\n",
        "        self.mfcc = np.load(mfcc_filepath)\n",
        "        self.mfcc = np.expand_dims(self.mfcc, axis=1)\n",
        "        self.labels = np.load(labels_filepath)\n",
        "\n",
        "    def __len__(self):\n",
        "        return len(self.labels)\n",
        "\n",
        "    def __getitem__(self, idx):\n",
        "        mfcc = self.mfcc[idx]\n",
        "        label = self.labels[idx]\n",
        "        return mfcc, label\n",
        "\n",
        "dataset = AudioDataset(mfcc_filepath='/content/drive/MyDrive/licenta/arrays/mfcc.npy', labels_filepath='/content/drive/MyDrive/licenta/arrays/labels.npy')"
      ],
      "metadata": {
        "id": "Cu3DfR--8fKO"
      },
      "execution_count": null,
      "outputs": []
    },
    {
      "cell_type": "markdown",
      "source": [
        "## Dataloader"
      ],
      "metadata": {
        "id": "_9MpqTm89j8F"
      }
    },
    {
      "cell_type": "code",
      "source": [
        "# split the dataset into three parts (train 70%, test 15%, validation 15%)\n",
        "test_size = 0.15\n",
        "val_size = 0.15\n",
        "\n",
        "test_amount, val_amount = int(dataset.__len__() * test_size), int(dataset.__len__() * val_size)\n",
        "\n",
        "train_set, val_set, test_set = torch.utils.data.random_split(dataset, [\n",
        "            (dataset.__len__() - (test_amount + val_amount)),\n",
        "            test_amount,\n",
        "            val_amount\n",
        "])\n",
        "\n",
        "B = 64\n",
        "\n",
        "train_dataloader = torch.utils.data.DataLoader(\n",
        "            train_set,\n",
        "            batch_size=B,\n",
        "            shuffle=True,\n",
        "            drop_last=True,\n",
        ")\n",
        "val_dataloader = torch.utils.data.DataLoader(\n",
        "            val_set,\n",
        "            batch_size=B,\n",
        "            shuffle=False,\n",
        "            drop_last=True,\n",
        ")\n",
        "test_dataloader = torch.utils.data.DataLoader(\n",
        "            test_set,\n",
        "            batch_size=B,\n",
        "            shuffle=False,\n",
        "            drop_last=True,\n",
        ")"
      ],
      "metadata": {
        "id": "726mQPTu9lHz"
      },
      "execution_count": null,
      "outputs": []
    },
    {
      "cell_type": "markdown",
      "source": [
        "## Train/eval functions"
      ],
      "metadata": {
        "id": "VP5-QH0KI7i4"
      }
    },
    {
      "cell_type": "code",
      "source": [
        "def train_epoch(model, train_dataloader, loss_crt, optimizer, device):\n",
        "    \"\"\"\n",
        "    model: Model object\n",
        "    train_dataloader: DataLoader over the training dataset\n",
        "    loss_crt: loss function object\n",
        "    optimizer: Optimizer object\n",
        "    device: torch.device('cpu) or torch.device('cuda')\n",
        "\n",
        "    The function returns:\n",
        "     - the epoch training loss, which is an average over the individual batch\n",
        "       losses\n",
        "    \"\"\"\n",
        "    model.train()\n",
        "    epoch_loss = 0.0\n",
        "    epoch_accuracy = 0.0\n",
        "    num_batches = len(train_dataloader)\n",
        "\n",
        "    for batch_idx, batch in enumerate(train_dataloader):\n",
        "        # shape: batch_size x 1 x 28 x 28, batch_size x 1\n",
        "        batch_mfcc, batch_labels = batch\n",
        "\n",
        "        # move data to GPU\n",
        "        batch_mfcc = batch_mfcc.to(device)\n",
        "        batch_labels = batch_labels.to(device)\n",
        "\n",
        "        # initialize as zeros all the gradients of the model\n",
        "        model.zero_grad()\n",
        "\n",
        "        # get predictions from the FORWARD pass\n",
        "        # shape: batch_size x 9\n",
        "        output = model(batch_mfcc)\n",
        "\n",
        "        loss = loss_crt(output, batch_labels.squeeze())\n",
        "        loss_scalar = loss.item()\n",
        "\n",
        "        # BACKPROPAGATE the gradients\n",
        "        loss.backward()\n",
        "        # use the gradients to OPTIMISE the model\n",
        "        optimizer.step()\n",
        "\n",
        "        epoch_loss += loss_scalar\n",
        "\n",
        "        pred = output.argmax(dim=1, keepdim=True)\n",
        "        epoch_accuracy += pred.eq(batch_labels.view_as(pred)).float().mean().item()\n",
        "\n",
        "    epoch_loss = epoch_loss / num_batches\n",
        "    epoch_accuracy = 100. * epoch_accuracy / num_batches\n",
        "    return epoch_loss, epoch_accuracy\n",
        "\n",
        "def eval_epoch(model, val_dataloader, loss_crt, device):\n",
        "    \"\"\"\n",
        "    model: Model object\n",
        "    val_dataloader: DataLoader over the validation dataset\n",
        "    loss_crt: loss function object\n",
        "    device: torch.device('cpu) or torch.device('cuda')\n",
        "\n",
        "    The function returns:\n",
        "     - the epoch validation loss, which is an average over the individual batch\n",
        "       losses\n",
        "    \"\"\"\n",
        "    model.eval()\n",
        "    epoch_loss = 0.0\n",
        "    epoch_accuracy = 0.0\n",
        "    num_batches = len(val_dataloader)\n",
        "    with torch.no_grad():\n",
        "        for batch_idx, batch in tqdm(enumerate(val_dataloader)):\n",
        "            # shape: batch_size x 3 x 28 x 28, batch_size x 1\n",
        "            batch_mfcc, batch_labels = batch\n",
        "            current_batch_size = batch_mfcc.size(0)\n",
        "\n",
        "            # move data to GPU\n",
        "            batch_mfcc = batch_mfcc.to(device)\n",
        "            batch_labels = batch_labels.to(device)\n",
        "\n",
        "            # batch_size x 10\n",
        "            output = model(batch_mfcc)\n",
        "\n",
        "            loss = loss_crt(output, batch_labels.squeeze())\n",
        "            loss_scalar = loss.item()\n",
        "\n",
        "            epoch_loss += loss_scalar\n",
        "\n",
        "            pred = output.argmax(dim=1, keepdim=True)\n",
        "            epoch_accuracy += pred.eq(batch_labels.view_as(pred)).float().mean().item()\n",
        "\n",
        "    epoch_loss = epoch_loss/num_batches\n",
        "    epoch_accuracy = 100. * epoch_accuracy/num_batches\n",
        "    return epoch_loss, epoch_accuracy"
      ],
      "metadata": {
        "id": "_jaiFzRQIZ_2"
      },
      "execution_count": null,
      "outputs": []
    },
    {
      "cell_type": "markdown",
      "source": [
        "## Model class"
      ],
      "metadata": {
        "id": "zqNhw9CUAt6D"
      }
    },
    {
      "cell_type": "code",
      "source": [
        "class AccentClassifier(nn.Module):\n",
        "    def __init__(self):\n",
        "        super().__init__()\n",
        "\n",
        "        self.conv1 = nn.Conv2d(in_channels = 1, out_channels = 20, kernel_size = 3, stride = 1)\n",
        "        self.conv2 = nn.Conv2d(in_channels = 20, out_channels = 50, kernel_size = 3, stride = 1)\n",
        "        self.fc1 = nn.Linear(in_features = 8550, out_features = 500)\n",
        "        self.fc2 = nn.Linear(in_features = 500, out_features = 10)\n",
        "        self.activation_fn = nn.ReLU()\n",
        "        self.pool = nn.MaxPool2d(kernel_size=2, stride=2)\n",
        "        self.dropout = nn.Dropout(0.5)\n",
        "\n",
        "    def forward(self, x):\n",
        "        x = self.activation_fn(self.conv1(x))\n",
        "        x = self.pool(x)\n",
        "        x = self.activation_fn(self.conv2(x))\n",
        "        x = self.pool(x)\n",
        "        x = x.view(B, -1)\n",
        "        x = self.dropout(x)\n",
        "        x = self.activation_fn(self.fc1(x))\n",
        "        x = self.dropout(x)\n",
        "        x = self.fc2(x)\n",
        "        return x\n",
        "\n",
        "model = AccentClassifier().to(device)"
      ],
      "metadata": {
        "id": "d5qMf3nlAufM"
      },
      "execution_count": null,
      "outputs": []
    },
    {
      "cell_type": "markdown",
      "source": [
        "## Hyperparameters"
      ],
      "metadata": {
        "id": "dsX_3CCCJhsm"
      }
    },
    {
      "cell_type": "code",
      "source": [
        "hyperparams = {\n",
        "    'lr': 0.001,\n",
        "    'num_epochs': 10,\n",
        "    'optimizer': \"adam\",\n",
        "    'momentum': 0.9,\n",
        "}\n",
        "\n",
        "loss_criterion = nn.CrossEntropyLoss()\n",
        "\n",
        "if hyperparams['optimizer'] == 'adam':\n",
        "    optimizer = torch.optim.Adam(\n",
        "        params=model.parameters(),\n",
        "        lr=hyperparams['lr']\n",
        "    )\n",
        "elif hyperparams['optimizer'] == 'sgd':\n",
        "    optimizer = torch.optim.SGD(\n",
        "        params=model.parameters(),\n",
        "        lr=hyperparams['lr'],\n",
        "        momentum=hyperparams['momentum']\n",
        "    )"
      ],
      "metadata": {
        "id": "-IG7pcgkDiw6"
      },
      "execution_count": null,
      "outputs": []
    },
    {
      "cell_type": "markdown",
      "source": [
        "## Train loop"
      ],
      "metadata": {
        "id": "Iw6TpiLhIYUc"
      }
    },
    {
      "cell_type": "code",
      "source": [
        "train_losses = []\n",
        "train_accuracies = []\n",
        "val_losses = []\n",
        "val_accuracies = []\n",
        "\n",
        "for epoch in range(1, hyperparams['num_epochs'] + 1):\n",
        "    train_loss, train_accuracy = train_epoch(model, train_dataloader, loss_criterion, optimizer, device)\n",
        "    val_loss, val_accuracy = eval_epoch(model, val_dataloader, loss_criterion, device)\n",
        "\n",
        "    train_losses.append(train_loss)\n",
        "    val_losses.append(val_loss)\n",
        "    train_accuracies.append(train_accuracy)\n",
        "    val_accuracies.append(val_accuracy)\n",
        "\n",
        "    print('\\nEpoch %d'%(epoch))\n",
        "    print('train loss: %10.8f, accuracy: %10.8f'%(train_loss, train_accuracy))\n",
        "    print('val loss: %10.8f, accuracy: %10.8f'%(val_loss, val_accuracy))\n"
      ],
      "metadata": {
        "colab": {
          "base_uri": "https://localhost:8080/"
        },
        "id": "pAwmHETaI81F",
        "outputId": "8d08fc20-e6ed-4052-9839-f95af274c5f1"
      },
      "execution_count": null,
      "outputs": [
        {
          "output_type": "stream",
          "name": "stderr",
          "text": [
            "40it [00:00, 201.74it/s]\n"
          ]
        },
        {
          "output_type": "stream",
          "name": "stdout",
          "text": [
            "\n",
            "Epoch 1\n",
            "train loss: 3.31365660, accuracy: 46.49470899\n",
            "val loss: 0.92878783, accuracy: 61.64062500\n"
          ]
        },
        {
          "output_type": "stream",
          "name": "stderr",
          "text": [
            "40it [00:00, 143.63it/s]\n"
          ]
        },
        {
          "output_type": "stream",
          "name": "stdout",
          "text": [
            "\n",
            "Epoch 2\n",
            "train loss: 0.92969104, accuracy: 63.11177249\n",
            "val loss: 0.72142978, accuracy: 69.02343750\n"
          ]
        },
        {
          "output_type": "stream",
          "name": "stderr",
          "text": [
            "40it [00:00, 249.48it/s]\n"
          ]
        },
        {
          "output_type": "stream",
          "name": "stdout",
          "text": [
            "\n",
            "Epoch 3\n",
            "train loss: 0.75343897, accuracy: 69.66765873\n",
            "val loss: 0.54260834, accuracy: 80.07812500\n"
          ]
        },
        {
          "output_type": "stream",
          "name": "stderr",
          "text": [
            "40it [00:00, 250.53it/s]\n"
          ]
        },
        {
          "output_type": "stream",
          "name": "stdout",
          "text": [
            "\n",
            "Epoch 4\n",
            "train loss: 0.58122645, accuracy: 78.13326720\n",
            "val loss: 0.39516989, accuracy: 86.75781250\n"
          ]
        },
        {
          "output_type": "stream",
          "name": "stderr",
          "text": [
            "40it [00:00, 234.57it/s]\n"
          ]
        },
        {
          "output_type": "stream",
          "name": "stdout",
          "text": [
            "\n",
            "Epoch 5\n",
            "train loss: 0.46532624, accuracy: 82.94477513\n",
            "val loss: 0.34865519, accuracy: 86.79687500\n"
          ]
        },
        {
          "output_type": "stream",
          "name": "stderr",
          "text": [
            "40it [00:00, 214.77it/s]\n"
          ]
        },
        {
          "output_type": "stream",
          "name": "stdout",
          "text": [
            "\n",
            "Epoch 6\n",
            "train loss: 0.38437579, accuracy: 86.41699735\n",
            "val loss: 0.26067933, accuracy: 90.70312500\n"
          ]
        },
        {
          "output_type": "stream",
          "name": "stderr",
          "text": [
            "40it [00:00, 246.98it/s]\n"
          ]
        },
        {
          "output_type": "stream",
          "name": "stdout",
          "text": [
            "\n",
            "Epoch 7\n",
            "train loss: 0.32956550, accuracy: 88.32671958\n",
            "val loss: 0.34169015, accuracy: 87.77343750\n"
          ]
        },
        {
          "output_type": "stream",
          "name": "stderr",
          "text": [
            "40it [00:00, 248.35it/s]\n"
          ]
        },
        {
          "output_type": "stream",
          "name": "stdout",
          "text": [
            "\n",
            "Epoch 8\n",
            "train loss: 0.30447789, accuracy: 89.42625661\n",
            "val loss: 0.22084504, accuracy: 91.79687500\n"
          ]
        },
        {
          "output_type": "stream",
          "name": "stderr",
          "text": [
            "40it [00:00, 243.45it/s]\n"
          ]
        },
        {
          "output_type": "stream",
          "name": "stdout",
          "text": [
            "\n",
            "Epoch 9\n",
            "train loss: 0.28444110, accuracy: 90.31084656\n",
            "val loss: 0.33080757, accuracy: 88.43750000\n"
          ]
        },
        {
          "output_type": "stream",
          "name": "stderr",
          "text": [
            "40it [00:00, 243.34it/s]"
          ]
        },
        {
          "output_type": "stream",
          "name": "stdout",
          "text": [
            "\n",
            "Epoch 10\n",
            "train loss: 0.25834935, accuracy: 91.24503968\n",
            "val loss: 0.26857598, accuracy: 91.09375000\n"
          ]
        },
        {
          "output_type": "stream",
          "name": "stderr",
          "text": [
            "\n"
          ]
        }
      ]
    },
    {
      "cell_type": "markdown",
      "source": [
        "## Test accuracy"
      ],
      "metadata": {
        "id": "zxNur_ZbcCK-"
      }
    },
    {
      "cell_type": "code",
      "source": [
        "test_loss, test_accuracy = eval_epoch(model, test_dataloader, loss_criterion, device)\n",
        "print('test loss: %10.8f, accuracy: %10.8f'%(test_loss, test_accuracy))"
      ],
      "metadata": {
        "colab": {
          "base_uri": "https://localhost:8080/"
        },
        "id": "6yVrOKUzcEph",
        "outputId": "bae10e8b-980c-4d0b-ee7a-4e26bc3557ac"
      },
      "execution_count": null,
      "outputs": [
        {
          "output_type": "stream",
          "name": "stderr",
          "text": [
            "40it [00:00, 211.05it/s]"
          ]
        },
        {
          "output_type": "stream",
          "name": "stdout",
          "text": [
            "test loss: 0.28796261, accuracy: 90.97656250\n"
          ]
        },
        {
          "output_type": "stream",
          "name": "stderr",
          "text": [
            "\n"
          ]
        }
      ]
    },
    {
      "cell_type": "code",
      "source": [
        "def get_predictions_and_labels(model, dataloader, device):\n",
        "    model.eval()\n",
        "    predictions = []\n",
        "    labels = []\n",
        "    with torch.no_grad():\n",
        "        for batch_idx, batch in tqdm(enumerate(val_dataloader)):\n",
        "            batch_mfcc, batch_labels = batch\n",
        "            current_batch_size = batch_mfcc.size(0)\n",
        "\n",
        "            # move data to GPU\n",
        "            batch_mfcc = batch_mfcc.to(device)\n",
        "            batch_labels = batch_labels.to(device)\n",
        "\n",
        "            # batch_size x 10\n",
        "            output = model(batch_mfcc)\n",
        "\n",
        "            predictions.append(output.argmax(dim=1, keepdim=True))\n",
        "            labels.append(batch_labels)\n",
        "\n",
        "    predictions = torch.cat(predictions, dim=0)\n",
        "    labels = torch.cat(labels, dim=0)\n",
        "\n",
        "    return predictions, labels"
      ],
      "metadata": {
        "id": "XdzPgbfbeeLh"
      },
      "execution_count": null,
      "outputs": []
    },
    {
      "cell_type": "markdown",
      "source": [
        "## Confusion matrix"
      ],
      "metadata": {
        "id": "XL4ELVNmd51e"
      }
    },
    {
      "cell_type": "code",
      "source": [
        "predictions, labels = get_predictions_and_labels(model, test_dataloader, device)\n",
        "cm = confusion_matrix(labels.cpu().numpy(), predictions.cpu().numpy())"
      ],
      "metadata": {
        "colab": {
          "base_uri": "https://localhost:8080/"
        },
        "id": "WjmyOrQBd7tg",
        "outputId": "e6406701-accc-483b-88dd-d72b8ac29642"
      },
      "execution_count": null,
      "outputs": [
        {
          "output_type": "stream",
          "name": "stderr",
          "text": [
            "40it [00:00, 300.62it/s]\n"
          ]
        }
      ]
    },
    {
      "cell_type": "code",
      "source": [
        "labels = [\"american\", \"australian\", \"bangla\", \"british\", \"indian\", \"malayalam\", \"odiya\", \"telugu\", \"welsh\"]\n",
        "\n",
        "df_cm = pd.DataFrame(cm, index = [i for i in labels],\n",
        "                  columns = [i for i in labels])\n",
        "plt.figure(figsize = (10, 8))\n",
        "sn.heatmap(df_cm, annot=True, fmt='g')\n",
        "plt.savefig('/content/drive/MyDrive/licenta/confustionMatrix')"
      ],
      "metadata": {
        "colab": {
          "base_uri": "https://localhost:8080/",
          "height": 676
        },
        "id": "vZ4w8kbygIKA",
        "outputId": "d24a4b9a-b747-4b71-9a2a-e6137e69380b"
      },
      "execution_count": null,
      "outputs": [
        {
          "output_type": "display_data",
          "data": {
            "text/plain": [
              "<Figure size 1000x800 with 2 Axes>"
            ],
            "image/png": "[encoded data removed]"
          },
          "metadata": {}
        }
      ]
    }
  ]
}