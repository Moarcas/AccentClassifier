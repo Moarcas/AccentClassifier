{
  "nbformat": 4,
  "nbformat_minor": 0,
  "metadata": {
    "colab": {
      "provenance": [],
      "gpuType": "T4",
      "authorship_tag": "ABX9TyP2ouJMZslgnQY/CEB19Oma"
    },
    "kernelspec": {
      "name": "python3",
      "display_name": "Python 3"
    },
    "language_info": {
      "name": "python"
    },
    "accelerator": "GPU"
  },
  "cells": [
    {
      "cell_type": "markdown",
      "source": [
        "## Imports"
      ],
      "metadata": {
        "id": "maez1obb8AQN"
      }
    },
    {
      "cell_type": "code",
      "execution_count": 47,
      "metadata": {
        "id": "DWWUO0_i77vu"
      },
      "outputs": [],
      "source": [
        "from google.colab import drive\n",
        "\n",
        "from torch.utils.data import Dataset, DataLoader\n",
        "import torch\n",
        "from torch import nn\n",
        "import torch.nn.functional as F\n",
        "\n",
        "from sklearn.metrics import confusion_matrix, precision_score, recall_score\n",
        "\n",
        "import numpy as np\n",
        "\n",
        "import matplotlib.pyplot as plt\n",
        "import seaborn as sn\n",
        "import pandas as pd\n",
        "\n",
        "from tqdm import tqdm"
      ]
    },
    {
      "cell_type": "markdown",
      "source": [
        "## Mount google drive"
      ],
      "metadata": {
        "id": "9-6dK5-P8J2D"
      }
    },
    {
      "cell_type": "code",
      "source": [
        "drive.mount('/content/drive/')"
      ],
      "metadata": {
        "colab": {
          "base_uri": "https://localhost:8080/"
        },
        "id": "QOhdzydT8Lip",
        "outputId": "1722a619-0b86-42be-d77f-4bc23f9452e0"
      },
      "execution_count": 2,
      "outputs": [
        {
          "output_type": "stream",
          "name": "stdout",
          "text": [
            "Mounted at /content/drive/\n"
          ]
        }
      ]
    },
    {
      "cell_type": "markdown",
      "source": [
        "## Select device"
      ],
      "metadata": {
        "id": "Mln2GgCNKBUA"
      }
    },
    {
      "cell_type": "code",
      "source": [
        "device = torch.device('cuda') if torch.cuda.is_available() else torch.device('cpu')\n",
        "print(\"Training on\", device)"
      ],
      "metadata": {
        "colab": {
          "base_uri": "https://localhost:8080/"
        },
        "id": "hS-zNBPEKDYB",
        "outputId": "1a55a1b4-155e-45ed-c48c-a4611977cd25"
      },
      "execution_count": 3,
      "outputs": [
        {
          "output_type": "stream",
          "name": "stdout",
          "text": [
            "Training on cuda\n"
          ]
        }
      ]
    },
    {
      "cell_type": "markdown",
      "source": [
        "## Dataset class"
      ],
      "metadata": {
        "id": "XCXdzlBN8d7V"
      }
    },
    {
      "cell_type": "code",
      "source": [
        "class AudioDataset(Dataset):\n",
        "    def __init__(self, data_filepath, labels_filepath):\n",
        "        self.data = np.load(data_filepath)\n",
        "        self.data = np.expand_dims(self.data, axis=1)\n",
        "        self.labels = np.load(labels_filepath)\n",
        "\n",
        "    def __len__(self):\n",
        "        return len(self.labels)\n",
        "\n",
        "    def __getitem__(self, idx):\n",
        "        data = self.data[idx]\n",
        "        label = self.labels[idx]\n",
        "        return data, label\n",
        "\n",
        "features_path = '/content/drive/MyDrive/licenta/arrays/mfcc_features.npy'\n",
        "labels_path = '/content/drive/MyDrive/licenta/arrays/labels.npy'\n",
        "dataset = AudioDataset(data_filepath=features_path, labels_filepath=labels_path)"
      ],
      "metadata": {
        "id": "Cu3DfR--8fKO"
      },
      "execution_count": 4,
      "outputs": []
    },
    {
      "cell_type": "markdown",
      "source": [
        "## Normalize function"
      ],
      "metadata": {
        "id": "z1Hm41xOZkyU"
      }
    },
    {
      "cell_type": "code",
      "source": [
        "def normalize(data):\n",
        "    data = (data - np.min(data, axis=0)) / (np.max(data, axis=0) - np.min(data, axis=0))\n",
        "    return data"
      ],
      "metadata": {
        "id": "4A8rJ0J3ZoSr"
      },
      "execution_count": 5,
      "outputs": []
    },
    {
      "cell_type": "markdown",
      "source": [
        "## Dataloader"
      ],
      "metadata": {
        "id": "_9MpqTm89j8F"
      }
    },
    {
      "cell_type": "code",
      "source": [
        "# split the dataset into three parts (train 70%, test 15%, validation 15%)\n",
        "test_size = 0.15\n",
        "val_size = 0.15\n",
        "\n",
        "test_amount, val_amount = int(dataset.__len__() * test_size), int(dataset.__len__() * val_size)\n",
        "\n",
        "train_set, val_set, test_set = torch.utils.data.random_split(dataset, [\n",
        "            (dataset.__len__() - (test_amount + val_amount)),\n",
        "            test_amount,\n",
        "            val_amount\n",
        "])\n",
        "\n",
        "# train_set.dataset.data = normalize(train_set.dataset.data)\n",
        "# val_set.dataset.data = normalize(val_set.dataset.data)\n",
        "# test_set.dataset.data = normalize(test_set.dataset.data)\n",
        "\n",
        "B = 64\n",
        "\n",
        "train_dataloader = torch.utils.data.DataLoader(\n",
        "            train_set,\n",
        "            batch_size=B,\n",
        "            shuffle=True,\n",
        "            drop_last=True,\n",
        ")\n",
        "val_dataloader = torch.utils.data.DataLoader(\n",
        "            val_set,\n",
        "            batch_size=B,\n",
        "            shuffle=False,\n",
        "            drop_last=True,\n",
        ")\n",
        "test_dataloader = torch.utils.data.DataLoader(\n",
        "            test_set,\n",
        "            batch_size=B,\n",
        "            shuffle=False,\n",
        "            drop_last=True,\n",
        ")"
      ],
      "metadata": {
        "id": "726mQPTu9lHz"
      },
      "execution_count": 33,
      "outputs": []
    },
    {
      "cell_type": "markdown",
      "source": [
        "## Train/eval functions"
      ],
      "metadata": {
        "id": "VP5-QH0KI7i4"
      }
    },
    {
      "cell_type": "code",
      "source": [
        "def train_epoch(model, train_dataloader, loss_crt, optimizer, device):\n",
        "    \"\"\"\n",
        "    model: Model object\n",
        "    train_dataloader: DataLoader over the training dataset\n",
        "    loss_crt: loss function object\n",
        "    optimizer: Optimizer object\n",
        "    device: torch.device('cpu) or torch.device('cuda')\n",
        "\n",
        "    The function returns:\n",
        "     - the epoch training loss, which is an average over the individual batch\n",
        "       losses\n",
        "    \"\"\"\n",
        "    model.train()\n",
        "    epoch_loss = 0.0\n",
        "    epoch_accuracy = 0.0\n",
        "    num_batches = len(train_dataloader)\n",
        "\n",
        "    for batch_idx, batch in enumerate(train_dataloader):\n",
        "        # shape: batch_size x 1 x 13 x 345, batch_size\n",
        "        batch_data, batch_labels = batch\n",
        "\n",
        "        # move data to GPU\n",
        "        batch_data = batch_data.to(device)\n",
        "        batch_labels = batch_labels.to(device)\n",
        "\n",
        "        # initialize as zeros all the gradients of the model\n",
        "        model.zero_grad()\n",
        "\n",
        "        # get predictions from the FORWARD pass\n",
        "        # shape: batch_size x 9\n",
        "        output = model(batch_data)\n",
        "\n",
        "        loss = loss_crt(output, batch_labels.squeeze())\n",
        "        loss_scalar = loss.item()\n",
        "\n",
        "        # BACKPROPAGATE the gradients\n",
        "        loss.backward()\n",
        "        # use the gradients to OPTIMISE the model\n",
        "        optimizer.step()\n",
        "\n",
        "        epoch_loss += loss_scalar\n",
        "\n",
        "        pred = output.argmax(dim=1, keepdim=True)\n",
        "        epoch_accuracy += pred.eq(batch_labels.view_as(pred)).float().mean().item()\n",
        "\n",
        "    epoch_loss = epoch_loss / num_batches\n",
        "    epoch_accuracy = 100. * epoch_accuracy / num_batches\n",
        "    return epoch_loss, epoch_accuracy\n",
        "\n",
        "def eval_epoch(model, val_dataloader, loss_crt, device):\n",
        "    \"\"\"\n",
        "    model: Model object\n",
        "    val_dataloader: DataLoader over the validation dataset\n",
        "    loss_crt: loss function object\n",
        "    device: torch.device('cpu) or torch.device('cuda')\n",
        "\n",
        "    The function returns:\n",
        "     - the epoch validation loss, which is an average over the individual batch\n",
        "       losses\n",
        "    \"\"\"\n",
        "    model.eval()\n",
        "    epoch_loss = 0.0\n",
        "    epoch_accuracy = 0.0\n",
        "    num_batches = len(val_dataloader)\n",
        "    with torch.no_grad():\n",
        "        for batch_idx, batch in tqdm(enumerate(val_dataloader)):\n",
        "            # shape: batch_size x 1 x 13 x 345, batch_size\n",
        "            batch_data, batch_labels = batch\n",
        "\n",
        "            # move data to GPU\n",
        "            batch_data = batch_data.to(device)\n",
        "            batch_labels = batch_labels.to(device)\n",
        "\n",
        "            # batch_size x 10\n",
        "            output = model(batch_data)\n",
        "\n",
        "            loss = loss_crt(output, batch_labels.squeeze())\n",
        "            loss_scalar = loss.item()\n",
        "\n",
        "            epoch_loss += loss_scalar\n",
        "\n",
        "            pred = output.argmax(dim=1, keepdim=True)\n",
        "            epoch_accuracy += pred.eq(batch_labels.view_as(pred)).float().mean().item()\n",
        "\n",
        "    epoch_loss = epoch_loss/num_batches\n",
        "    epoch_accuracy = 100. * epoch_accuracy/num_batches\n",
        "    return epoch_loss, epoch_accuracy"
      ],
      "metadata": {
        "id": "_jaiFzRQIZ_2"
      },
      "execution_count": 34,
      "outputs": []
    },
    {
      "cell_type": "markdown",
      "source": [
        "## Model class"
      ],
      "metadata": {
        "id": "zqNhw9CUAt6D"
      }
    },
    {
      "cell_type": "code",
      "source": [
        "class AccentClassifier(nn.Module):\n",
        "    def __init__(self):\n",
        "        super().__init__()\n",
        "\n",
        "        self.conv1 = nn.Conv2d(in_channels = 1, out_channels = 32, kernel_size = 3)\n",
        "        self.conv2 = nn.Conv2d(in_channels = 32, out_channels = 64, kernel_size = 3)\n",
        "        self.fc1 = nn.Linear(in_features = 5376, out_features = 512)\n",
        "        self.fc2 = nn.Linear(in_features = 512, out_features = 9)\n",
        "        self.activation_fn = nn.ReLU()\n",
        "        self.pool = nn.MaxPool2d(kernel_size=2, stride=2)\n",
        "        self.dropout = nn.Dropout(0.5)\n",
        "\n",
        "    def forward(self, x):\n",
        "        x = self.activation_fn(self.conv1(x))\n",
        "        x = self.pool(x)\n",
        "        x = self.activation_fn(self.conv2(x))\n",
        "        x = self.pool(x)\n",
        "        x = x.view(B, -1)\n",
        "        x = self.dropout(x)\n",
        "        x = self.activation_fn(self.fc1(x))\n",
        "        x = self.dropout(x)\n",
        "        x = self.fc2(x)\n",
        "        return x\n",
        "\n",
        "model = AccentClassifier().to(device)"
      ],
      "metadata": {
        "id": "d5qMf3nlAufM"
      },
      "execution_count": 39,
      "outputs": []
    },
    {
      "cell_type": "markdown",
      "source": [
        "## Hyperparameters"
      ],
      "metadata": {
        "id": "dsX_3CCCJhsm"
      }
    },
    {
      "cell_type": "code",
      "source": [
        "hyperparams = {\n",
        "    'lr': 5e-4,\n",
        "    'num_epochs': 15,\n",
        "    'optimizer': \"adam\",\n",
        "    'momentum': 0.9,\n",
        "}\n",
        "\n",
        "loss_criterion = nn.CrossEntropyLoss()\n",
        "\n",
        "if hyperparams['optimizer'] == 'adam':\n",
        "    optimizer = torch.optim.Adam(\n",
        "        params=model.parameters(),\n",
        "        lr=hyperparams['lr']\n",
        "    )\n",
        "elif hyperparams['optimizer'] == 'sgd':\n",
        "    optimizer = torch.optim.SGD(\n",
        "        params=model.parameters(),\n",
        "        lr=hyperparams['lr'],\n",
        "        momentum=hyperparams['momentum']\n",
        "    )"
      ],
      "metadata": {
        "id": "-IG7pcgkDiw6"
      },
      "execution_count": 40,
      "outputs": []
    },
    {
      "cell_type": "markdown",
      "source": [
        "## Train loop"
      ],
      "metadata": {
        "id": "Iw6TpiLhIYUc"
      }
    },
    {
      "cell_type": "code",
      "source": [
        "train_losses = []\n",
        "train_accuracies = []\n",
        "val_losses = []\n",
        "val_accuracies = []\n",
        "\n",
        "for epoch in range(1, hyperparams['num_epochs'] + 1):\n",
        "    train_loss, train_accuracy = train_epoch(model, train_dataloader, loss_criterion, optimizer, device)\n",
        "    val_loss, val_accuracy = eval_epoch(model, val_dataloader, loss_criterion, device)\n",
        "\n",
        "    train_losses.append(train_loss)\n",
        "    val_losses.append(val_loss)\n",
        "    train_accuracies.append(train_accuracy)\n",
        "    val_accuracies.append(val_accuracy)\n",
        "\n",
        "    print('\\nEpoch %d'%(epoch))\n",
        "    print('train loss: %10.8f, accuracy: %10.8f'%(train_loss, train_accuracy))\n",
        "    print('val loss: %10.8f, accuracy: %10.8f'%(val_loss, val_accuracy))\n"
      ],
      "metadata": {
        "colab": {
          "base_uri": "https://localhost:8080/"
        },
        "id": "pAwmHETaI81F",
        "outputId": "60dd6501-1867-4089-e987-12bee6557a4a"
      },
      "execution_count": 41,
      "outputs": [
        {
          "output_type": "stream",
          "name": "stderr",
          "text": [
            "40it [00:00, 329.04it/s]\n"
          ]
        },
        {
          "output_type": "stream",
          "name": "stdout",
          "text": [
            "\n",
            "Epoch 1\n",
            "train loss: 1.60630857, accuracy: 55.12566138\n",
            "val loss: 0.50277224, accuracy: 82.96875000\n"
          ]
        },
        {
          "output_type": "stream",
          "name": "stderr",
          "text": [
            "40it [00:00, 331.56it/s]\n"
          ]
        },
        {
          "output_type": "stream",
          "name": "stdout",
          "text": [
            "\n",
            "Epoch 2\n",
            "train loss: 0.49227454, accuracy: 81.30787037\n",
            "val loss: 0.25845188, accuracy: 90.82031250\n"
          ]
        },
        {
          "output_type": "stream",
          "name": "stderr",
          "text": [
            "40it [00:00, 318.49it/s]\n"
          ]
        },
        {
          "output_type": "stream",
          "name": "stdout",
          "text": [
            "\n",
            "Epoch 3\n",
            "train loss: 0.28917821, accuracy: 89.53373016\n",
            "val loss: 0.15605768, accuracy: 95.46875000\n"
          ]
        },
        {
          "output_type": "stream",
          "name": "stderr",
          "text": [
            "40it [00:00, 330.03it/s]\n"
          ]
        },
        {
          "output_type": "stream",
          "name": "stdout",
          "text": [
            "\n",
            "Epoch 4\n",
            "train loss: 0.20528704, accuracy: 92.50165344\n",
            "val loss: 0.16185460, accuracy: 95.00000000\n"
          ]
        },
        {
          "output_type": "stream",
          "name": "stderr",
          "text": [
            "40it [00:00, 320.54it/s]\n"
          ]
        },
        {
          "output_type": "stream",
          "name": "stdout",
          "text": [
            "\n",
            "Epoch 5\n",
            "train loss: 0.16823516, accuracy: 94.02281746\n",
            "val loss: 0.10125938, accuracy: 96.91406250\n"
          ]
        },
        {
          "output_type": "stream",
          "name": "stderr",
          "text": [
            "40it [00:00, 274.22it/s]\n"
          ]
        },
        {
          "output_type": "stream",
          "name": "stdout",
          "text": [
            "\n",
            "Epoch 6\n",
            "train loss: 0.13359725, accuracy: 95.23809524\n",
            "val loss: 0.09835544, accuracy: 97.03125000\n"
          ]
        },
        {
          "output_type": "stream",
          "name": "stderr",
          "text": [
            "40it [00:00, 279.10it/s]\n"
          ]
        },
        {
          "output_type": "stream",
          "name": "stdout",
          "text": [
            "\n",
            "Epoch 7\n",
            "train loss: 0.11472533, accuracy: 96.07308201\n",
            "val loss: 0.10317866, accuracy: 96.75781250\n"
          ]
        },
        {
          "output_type": "stream",
          "name": "stderr",
          "text": [
            "40it [00:00, 328.60it/s]\n"
          ]
        },
        {
          "output_type": "stream",
          "name": "stdout",
          "text": [
            "\n",
            "Epoch 8\n",
            "train loss: 0.10568644, accuracy: 96.32109788\n",
            "val loss: 0.07851599, accuracy: 97.61718750\n"
          ]
        },
        {
          "output_type": "stream",
          "name": "stderr",
          "text": [
            "40it [00:00, 335.07it/s]\n"
          ]
        },
        {
          "output_type": "stream",
          "name": "stdout",
          "text": [
            "\n",
            "Epoch 9\n",
            "train loss: 0.08802539, accuracy: 96.93287037\n",
            "val loss: 0.09119658, accuracy: 96.99218750\n"
          ]
        },
        {
          "output_type": "stream",
          "name": "stderr",
          "text": [
            "40it [00:00, 321.86it/s]\n"
          ]
        },
        {
          "output_type": "stream",
          "name": "stdout",
          "text": [
            "\n",
            "Epoch 10\n",
            "train loss: 0.08929770, accuracy: 97.08167989\n",
            "val loss: 0.07918899, accuracy: 97.14843750\n"
          ]
        },
        {
          "output_type": "stream",
          "name": "stderr",
          "text": [
            "40it [00:00, 305.67it/s]\n"
          ]
        },
        {
          "output_type": "stream",
          "name": "stdout",
          "text": [
            "\n",
            "Epoch 11\n",
            "train loss: 0.07012353, accuracy: 97.59424603\n",
            "val loss: 0.12707643, accuracy: 95.58593750\n"
          ]
        },
        {
          "output_type": "stream",
          "name": "stderr",
          "text": [
            "40it [00:00, 329.52it/s]\n"
          ]
        },
        {
          "output_type": "stream",
          "name": "stdout",
          "text": [
            "\n",
            "Epoch 12\n",
            "train loss: 0.07429596, accuracy: 97.50330688\n",
            "val loss: 0.08325163, accuracy: 96.87500000\n"
          ]
        },
        {
          "output_type": "stream",
          "name": "stderr",
          "text": [
            "40it [00:00, 321.92it/s]\n"
          ]
        },
        {
          "output_type": "stream",
          "name": "stdout",
          "text": [
            "\n",
            "Epoch 13\n",
            "train loss: 0.06224611, accuracy: 97.74305556\n",
            "val loss: 0.05830999, accuracy: 98.28125000\n"
          ]
        },
        {
          "output_type": "stream",
          "name": "stderr",
          "text": [
            "40it [00:00, 274.67it/s]\n"
          ]
        },
        {
          "output_type": "stream",
          "name": "stdout",
          "text": [
            "\n",
            "Epoch 14\n",
            "train loss: 0.06885376, accuracy: 97.62731481\n",
            "val loss: 0.08151306, accuracy: 97.26562500\n"
          ]
        },
        {
          "output_type": "stream",
          "name": "stderr",
          "text": [
            "40it [00:00, 280.53it/s]"
          ]
        },
        {
          "output_type": "stream",
          "name": "stdout",
          "text": [
            "\n",
            "Epoch 15\n",
            "train loss: 0.05529017, accuracy: 98.14814815\n",
            "val loss: 0.04662059, accuracy: 98.51562500\n"
          ]
        },
        {
          "output_type": "stream",
          "name": "stderr",
          "text": [
            "\n"
          ]
        }
      ]
    },
    {
      "cell_type": "markdown",
      "source": [
        "## Save the model parameters"
      ],
      "metadata": {
        "id": "lCA9P-nmGXr9"
      }
    },
    {
      "cell_type": "code",
      "source": [
        "model_path = '/content/drive/MyDrive/licenta/models/CNN_mfcc_parameters.pth.tar'\n",
        "\n",
        "torch.save({\n",
        "    'state_dict': model.state_dict(),\n",
        "}, model_path)"
      ],
      "metadata": {
        "id": "ojq825jiGZM3"
      },
      "execution_count": 43,
      "outputs": []
    },
    {
      "cell_type": "markdown",
      "source": [
        "## Test accuracy"
      ],
      "metadata": {
        "id": "zxNur_ZbcCK-"
      }
    },
    {
      "cell_type": "code",
      "source": [
        "test_loss, test_accuracy = eval_epoch(model, test_dataloader, loss_criterion, device)\n",
        "print('test loss: %10.8f, accuracy: %10.8f'%(test_loss, test_accuracy))"
      ],
      "metadata": {
        "colab": {
          "base_uri": "https://localhost:8080/"
        },
        "id": "6yVrOKUzcEph",
        "outputId": "ce888b81-852f-48a0-b21e-14369dc9600b"
      },
      "execution_count": 42,
      "outputs": [
        {
          "output_type": "stream",
          "name": "stderr",
          "text": [
            "40it [00:00, 291.69it/s]"
          ]
        },
        {
          "output_type": "stream",
          "name": "stdout",
          "text": [
            "test loss: 0.05473169, accuracy: 98.32031250\n"
          ]
        },
        {
          "output_type": "stream",
          "name": "stderr",
          "text": [
            "\n"
          ]
        }
      ]
    },
    {
      "cell_type": "code",
      "source": [
        "def get_predictions_and_labels(model, dataloader, device):\n",
        "    model.eval()\n",
        "    predictions = []\n",
        "    labels = []\n",
        "    with torch.no_grad():\n",
        "        for batch_idx, batch in tqdm(enumerate(val_dataloader)):\n",
        "            batch_mfcc, batch_labels = batch\n",
        "\n",
        "            # move data to GPU\n",
        "            batch_mfcc = batch_mfcc.to(device)\n",
        "            batch_labels = batch_labels.to(device)\n",
        "\n",
        "            # batch_size x 10\n",
        "            output = model(batch_mfcc)\n",
        "\n",
        "            predictions.append(output.argmax(dim=1, keepdim=True))\n",
        "            labels.append(batch_labels)\n",
        "\n",
        "    predictions = torch.cat(predictions, dim=0)\n",
        "    labels = torch.cat(labels, dim=0)\n",
        "\n",
        "    return predictions, labels"
      ],
      "metadata": {
        "id": "XdzPgbfbeeLh"
      },
      "execution_count": 44,
      "outputs": []
    },
    {
      "cell_type": "markdown",
      "source": [
        "## Confusion matrix"
      ],
      "metadata": {
        "id": "XL4ELVNmd51e"
      }
    },
    {
      "cell_type": "code",
      "source": [
        "predictions, labels = get_predictions_and_labels(model, test_dataloader, device)\n",
        "cm = confusion_matrix(labels.cpu().numpy(), predictions.cpu().numpy())"
      ],
      "metadata": {
        "colab": {
          "base_uri": "https://localhost:8080/"
        },
        "id": "WjmyOrQBd7tg",
        "outputId": "b30c9a22-de93-49cc-ae19-22a8fd30c44d"
      },
      "execution_count": 45,
      "outputs": [
        {
          "output_type": "stream",
          "name": "stderr",
          "text": [
            "40it [00:00, 422.80it/s]\n"
          ]
        }
      ]
    },
    {
      "cell_type": "code",
      "source": [
        "labels = [\"american\", \"australian\", \"bangla\", \"british\", \"indian\", \"malayalam\", \"odiya\", \"telugu\", \"welsh\"]\n",
        "\n",
        "df_cm = pd.DataFrame(cm, index = [i for i in labels],\n",
        "                  columns = [i for i in labels])\n",
        "plt.figure(figsize = (10, 8))\n",
        "sn.heatmap(df_cm, annot=True, fmt='g')\n",
        "plt.savefig('/content/drive/MyDrive/licenta/confustionMatrix')"
      ],
      "metadata": {
        "colab": {
          "base_uri": "https://localhost:8080/",
          "height": 676
        },
        "id": "vZ4w8kbygIKA",
        "outputId": "db06c1d7-5f31-4f5b-b484-f70aff981735"
      },
      "execution_count": 46,
      "outputs": [
        {
          "output_type": "display_data",
          "data": {
            "text/plain": [
              "<Figure size 1000x800 with 2 Axes>"
            ],
            "image/png": "[encoded data removed]"
          },
          "metadata": {}
        }
      ]
    },
    {
      "cell_type": "markdown",
      "source": [
        "## Precision and recall"
      ],
      "metadata": {
        "id": "9tzweskCGkH0"
      }
    },
    {
      "cell_type": "code",
      "source": [
        "predictions, labels = get_predictions_and_labels(model, test_dataloader, device)\n",
        "predictions, labels = predictions.cpu(), labels.cpu()\n",
        "\n",
        "\n",
        "precision = precision_score(labels, predictions, average='macro')\n",
        "recall = recall_score(labels, predictions, average='macro')\n",
        "\n",
        "print()\n",
        "print(f'Macro Precision: {precision}')\n",
        "print(f'Macro Recall: {recall}')\n",
        "\n",
        "# Micro-averaged precision and recall\n",
        "precision_micro = precision_score(labels, predictions, average='micro')\n",
        "recall_micro = recall_score(labels, predictions, average='micro')\n",
        "\n",
        "print(f'Micro Precision: {precision_micro}')\n",
        "print(f'Micro Recall: {recall_micro}')"
      ],
      "metadata": {
        "id": "mF-kVkLSGlV0",
        "outputId": "645dfc9f-6823-484b-d420-a632ef911c47",
        "colab": {
          "base_uri": "https://localhost:8080/"
        }
      },
      "execution_count": 48,
      "outputs": [
        {
          "output_type": "stream",
          "name": "stderr",
          "text": [
            "40it [00:00, 428.55it/s]"
          ]
        },
        {
          "output_type": "stream",
          "name": "stdout",
          "text": [
            "\n",
            "Macro Precision: 0.9797468105510228\n",
            "Macro Recall: 0.983281711884087\n",
            "Micro Precision: 0.98515625\n",
            "Micro Recall: 0.98515625\n"
          ]
        },
        {
          "output_type": "stream",
          "name": "stderr",
          "text": [
            "\n"
          ]
        }
      ]
    },
    {
      "cell_type": "markdown",
      "source": [
        "## Accuracy and loss plot"
      ],
      "metadata": {
        "id": "6aGvNG7hj410"
      }
    },
    {
      "cell_type": "code",
      "source": [
        "epochs = range(1, hyperparams['num_epochs'] + 1)\n",
        "\n",
        "# Create a figure with 1 row and 2 columns\n",
        "plt.figure(figsize=(15, 5))\n",
        "\n",
        "# Plotting accuracy\n",
        "plt.subplot(1, 2, 1)\n",
        "plt.plot(epochs, train_accuracies, 'b', label='Training accuracy')\n",
        "plt.plot(epochs, val_accuracies, 'r', label='Validation accuracy')\n",
        "plt.title('Training and validation accuracy')\n",
        "plt.xlabel('Epochs')\n",
        "plt.ylabel('Accuracy')\n",
        "plt.legend()\n",
        "plt.grid(True)\n",
        "\n",
        "# Plotting loss\n",
        "plt.subplot(1, 2, 2)\n",
        "plt.plot(epochs, train_losses, 'b', label='Training loss')\n",
        "plt.plot(epochs, val_losses, 'r', label='Validation loss')\n",
        "plt.title('Training and validation loss')\n",
        "plt.xlabel('Epochs')\n",
        "plt.ylabel('Loss')\n",
        "plt.legend()\n",
        "plt.grid(True)\n",
        "\n",
        "# Display the plots\n",
        "plt.tight_layout()\n",
        "plt.show()"
      ],
      "metadata": {
        "colab": {
          "base_uri": "https://localhost:8080/",
          "height": 507
        },
        "id": "gUXAM6rOj7cS",
        "outputId": "dde1b5eb-1502-40d5-8331-50a1348a8204"
      },
      "execution_count": 53,
      "outputs": [
        {
          "output_type": "display_data",
          "data": {
            "text/plain": [
              "<Figure size 1500x500 with 2 Axes>"
            ],
            "image/png": "[encoded data removed]"
          },
          "metadata": {}
        }
      ]
    }
  ]
}