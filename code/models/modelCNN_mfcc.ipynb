{
  "nbformat": 4,
  "nbformat_minor": 0,
  "metadata": {
    "colab": {
      "provenance": [],
      "gpuType": "T4",
      "authorship_tag": "ABX9TyPeqi645GOfs/Ef/yfVGRWf",
      "include_colab_link": true
    },
    "kernelspec": {
      "name": "python3",
      "display_name": "Python 3"
    },
    "language_info": {
      "name": "python"
    },
    "accelerator": "GPU"
  },
  "cells": [
    {
      "cell_type": "markdown",
      "metadata": {
        "id": "view-in-github",
        "colab_type": "text"
      },
      "source": [
        "<a href=\"https://colab.research.google.com/github/Moarcas/licenta/blob/master/code/models/modelCNN.ipynb\" target=\"_parent\"><img src=\"https://colab.research.google.com/assets/colab-badge.svg\" alt=\"Open In Colab\"/></a>"
      ]
    },
    {
      "cell_type": "markdown",
      "source": [
        "## Imports"
      ],
      "metadata": {
        "id": "maez1obb8AQN"
      }
    },
    {
      "cell_type": "code",
      "execution_count": 165,
      "metadata": {
        "id": "DWWUO0_i77vu"
      },
      "outputs": [],
      "source": [
        "from google.colab import drive\n",
        "\n",
        "from torch.utils.data import Dataset, DataLoader\n",
        "import torch\n",
        "from torch import nn\n",
        "import torch.nn.functional as F\n",
        "\n",
        "from sklearn.metrics import confusion_matrix\n",
        "\n",
        "import numpy as np\n",
        "\n",
        "import matplotlib.pyplot as plt\n",
        "import seaborn as sn\n",
        "import pandas as pd\n",
        "\n",
        "from tqdm import tqdm"
      ]
    },
    {
      "cell_type": "markdown",
      "source": [
        "## Mount google drive"
      ],
      "metadata": {
        "id": "9-6dK5-P8J2D"
      }
    },
    {
      "cell_type": "code",
      "source": [
        "drive.mount('/content/drive/')"
      ],
      "metadata": {
        "colab": {
          "base_uri": "https://localhost:8080/"
        },
        "id": "QOhdzydT8Lip",
        "outputId": "45bf1e82-d1b9-4bf2-a703-8a45f70405a5"
      },
      "execution_count": 166,
      "outputs": [
        {
          "output_type": "stream",
          "name": "stdout",
          "text": [
            "Drive already mounted at /content/drive/; to attempt to forcibly remount, call drive.mount(\"/content/drive/\", force_remount=True).\n"
          ]
        }
      ]
    },
    {
      "cell_type": "markdown",
      "source": [
        "## Select device"
      ],
      "metadata": {
        "id": "Mln2GgCNKBUA"
      }
    },
    {
      "cell_type": "code",
      "source": [
        "device = torch.device('cuda') if torch.cuda.is_available() else torch.device('cpu')\n",
        "print(\"Training on\", device)"
      ],
      "metadata": {
        "colab": {
          "base_uri": "https://localhost:8080/"
        },
        "id": "hS-zNBPEKDYB",
        "outputId": "4594502c-4b41-41c8-d5e1-1e3c362b2924"
      },
      "execution_count": 167,
      "outputs": [
        {
          "output_type": "stream",
          "name": "stdout",
          "text": [
            "Training on cuda\n"
          ]
        }
      ]
    },
    {
      "cell_type": "markdown",
      "source": [
        "## Dataset class"
      ],
      "metadata": {
        "id": "XCXdzlBN8d7V"
      }
    },
    {
      "cell_type": "code",
      "source": [
        "class AudioDataset(Dataset):\n",
        "    def __init__(self, data_filepath, labels_filepath):\n",
        "        self.data = np.load(data_filepath)\n",
        "        self.data = np.expand_dims(self.data, axis=1)\n",
        "        self.labels = np.load(labels_filepath)\n",
        "\n",
        "    def __len__(self):\n",
        "        return len(self.labels)\n",
        "\n",
        "    def __getitem__(self, idx):\n",
        "        data = self.data[idx]\n",
        "        label = self.labels[idx]\n",
        "        return data, label\n",
        "\n",
        "features_path = '/content/drive/MyDrive/licenta/arrays/mfcc_features.npy'\n",
        "labels_path = '/content/drive/MyDrive/licenta/arrays/labels.npy'\n",
        "dataset = AudioDataset(data_filepath=features_path, labels_filepath=labels_path)"
      ],
      "metadata": {
        "id": "Cu3DfR--8fKO"
      },
      "execution_count": 168,
      "outputs": []
    },
    {
      "cell_type": "markdown",
      "source": [
        "## Normalize function"
      ],
      "metadata": {
        "id": "z1Hm41xOZkyU"
      }
    },
    {
      "cell_type": "code",
      "source": [
        "def normalize(data):\n",
        "    data = (data - np.min(data, axis=0)) / (np.max(data, axis=0) - np.min(data, axis=0))\n",
        "    return data"
      ],
      "metadata": {
        "id": "4A8rJ0J3ZoSr"
      },
      "execution_count": 169,
      "outputs": []
    },
    {
      "cell_type": "markdown",
      "source": [
        "## Dataloader"
      ],
      "metadata": {
        "id": "_9MpqTm89j8F"
      }
    },
    {
      "cell_type": "code",
      "source": [
        "# split the dataset into three parts (train 70%, test 15%, validation 15%)\n",
        "test_size = 0.15\n",
        "val_size = 0.15\n",
        "\n",
        "test_amount, val_amount = int(dataset.__len__() * test_size), int(dataset.__len__() * val_size)\n",
        "\n",
        "train_set, val_set, test_set = torch.utils.data.random_split(dataset, [\n",
        "            (dataset.__len__() - (test_amount + val_amount)),\n",
        "            test_amount,\n",
        "            val_amount\n",
        "])\n",
        "\n",
        "# train_set.dataset.data = normalize(train_set.dataset.data)\n",
        "# val_set.dataset.data = normalize(val_set.dataset.data)\n",
        "# test_set.dataset.data = normalize(test_set.dataset.data)\n",
        "\n",
        "B = 64\n",
        "\n",
        "train_dataloader = torch.utils.data.DataLoader(\n",
        "            train_set,\n",
        "            batch_size=B,\n",
        "            shuffle=True,\n",
        "            drop_last=True,\n",
        ")\n",
        "val_dataloader = torch.utils.data.DataLoader(\n",
        "            val_set,\n",
        "            batch_size=B,\n",
        "            shuffle=False,\n",
        "            drop_last=True,\n",
        ")\n",
        "test_dataloader = torch.utils.data.DataLoader(\n",
        "            test_set,\n",
        "            batch_size=B,\n",
        "            shuffle=False,\n",
        "            drop_last=True,\n",
        ")"
      ],
      "metadata": {
        "id": "726mQPTu9lHz"
      },
      "execution_count": 170,
      "outputs": []
    },
    {
      "cell_type": "markdown",
      "source": [
        "## Train/eval functions"
      ],
      "metadata": {
        "id": "VP5-QH0KI7i4"
      }
    },
    {
      "cell_type": "code",
      "source": [
        "def train_epoch(model, train_dataloader, loss_crt, optimizer, device):\n",
        "    \"\"\"\n",
        "    model: Model object\n",
        "    train_dataloader: DataLoader over the training dataset\n",
        "    loss_crt: loss function object\n",
        "    optimizer: Optimizer object\n",
        "    device: torch.device('cpu) or torch.device('cuda')\n",
        "\n",
        "    The function returns:\n",
        "     - the epoch training loss, which is an average over the individual batch\n",
        "       losses\n",
        "    \"\"\"\n",
        "    model.train()\n",
        "    epoch_loss = 0.0\n",
        "    epoch_accuracy = 0.0\n",
        "    num_batches = len(train_dataloader)\n",
        "\n",
        "    for batch_idx, batch in enumerate(train_dataloader):\n",
        "        # shape: batch_size x 1 x 13 x 345, batch_size\n",
        "        batch_data, batch_labels = batch\n",
        "\n",
        "        # move data to GPU\n",
        "        batch_data = batch_data.to(device)\n",
        "        batch_labels = batch_labels.to(device)\n",
        "\n",
        "        # initialize as zeros all the gradients of the model\n",
        "        model.zero_grad()\n",
        "\n",
        "        # get predictions from the FORWARD pass\n",
        "        # shape: batch_size x 9\n",
        "        output = model(batch_data)\n",
        "\n",
        "        loss = loss_crt(output, batch_labels.squeeze())\n",
        "        loss_scalar = loss.item()\n",
        "\n",
        "        # BACKPROPAGATE the gradients\n",
        "        loss.backward()\n",
        "        # use the gradients to OPTIMISE the model\n",
        "        optimizer.step()\n",
        "\n",
        "        epoch_loss += loss_scalar\n",
        "\n",
        "        pred = output.argmax(dim=1, keepdim=True)\n",
        "        epoch_accuracy += pred.eq(batch_labels.view_as(pred)).float().mean().item()\n",
        "\n",
        "    epoch_loss = epoch_loss / num_batches\n",
        "    epoch_accuracy = 100. * epoch_accuracy / num_batches\n",
        "    return epoch_loss, epoch_accuracy\n",
        "\n",
        "def eval_epoch(model, val_dataloader, loss_crt, device):\n",
        "    \"\"\"\n",
        "    model: Model object\n",
        "    val_dataloader: DataLoader over the validation dataset\n",
        "    loss_crt: loss function object\n",
        "    device: torch.device('cpu) or torch.device('cuda')\n",
        "\n",
        "    The function returns:\n",
        "     - the epoch validation loss, which is an average over the individual batch\n",
        "       losses\n",
        "    \"\"\"\n",
        "    model.eval()\n",
        "    epoch_loss = 0.0\n",
        "    epoch_accuracy = 0.0\n",
        "    num_batches = len(val_dataloader)\n",
        "    with torch.no_grad():\n",
        "        for batch_idx, batch in tqdm(enumerate(val_dataloader)):\n",
        "            # shape: batch_size x 1 x 13 x 345, batch_size\n",
        "            batch_data, batch_labels = batch\n",
        "\n",
        "            # move data to GPU\n",
        "            batch_data = batch_data.to(device)\n",
        "            batch_labels = batch_labels.to(device)\n",
        "\n",
        "            # batch_size x 10\n",
        "            output = model(batch_data)\n",
        "\n",
        "            loss = loss_crt(output, batch_labels.squeeze())\n",
        "            loss_scalar = loss.item()\n",
        "\n",
        "            epoch_loss += loss_scalar\n",
        "\n",
        "            pred = output.argmax(dim=1, keepdim=True)\n",
        "            epoch_accuracy += pred.eq(batch_labels.view_as(pred)).float().mean().item()\n",
        "\n",
        "    epoch_loss = epoch_loss/num_batches\n",
        "    epoch_accuracy = 100. * epoch_accuracy/num_batches\n",
        "    return epoch_loss, epoch_accuracy"
      ],
      "metadata": {
        "id": "_jaiFzRQIZ_2"
      },
      "execution_count": 171,
      "outputs": []
    },
    {
      "cell_type": "markdown",
      "source": [
        "## Model class"
      ],
      "metadata": {
        "id": "zqNhw9CUAt6D"
      }
    },
    {
      "cell_type": "code",
      "source": [
        "class AccentClassifier(nn.Module):\n",
        "    def __init__(self):\n",
        "        super().__init__()\n",
        "\n",
        "        self.conv1 = nn.Conv2d(in_channels = 1, out_channels = 32, kernel_size = 3)\n",
        "        self.conv2 = nn.Conv2d(in_channels = 32, out_channels = 64, kernel_size = 3)\n",
        "        self.fc1 = nn.Linear(in_features = 5376, out_features = 512)\n",
        "        self.fc2 = nn.Linear(in_features = 512, out_features = 9)\n",
        "        self.activation_fn = nn.ReLU()\n",
        "        self.pool = nn.MaxPool2d(kernel_size=2, stride=2)\n",
        "        self.dropout = nn.Dropout(0.5)\n",
        "\n",
        "    def forward(self, x):\n",
        "        x = self.activation_fn(self.conv1(x))\n",
        "        x = self.pool(x)\n",
        "        x = self.activation_fn(self.conv2(x))\n",
        "        x = self.pool(x)\n",
        "        x = x.view(B, -1)\n",
        "        x = self.dropout(x)\n",
        "        x = self.activation_fn(self.fc1(x))\n",
        "        x = self.dropout(x)\n",
        "        x = self.fc2(x)\n",
        "        return x\n",
        "\n",
        "model = AccentClassifier().to(device)"
      ],
      "metadata": {
        "id": "d5qMf3nlAufM"
      },
      "execution_count": 172,
      "outputs": []
    },
    {
      "cell_type": "markdown",
      "source": [
        "## Hyperparameters"
      ],
      "metadata": {
        "id": "dsX_3CCCJhsm"
      }
    },
    {
      "cell_type": "code",
      "source": [
        "hyperparams = {\n",
        "    'lr': 5e-4,\n",
        "    'num_epochs': 30,\n",
        "    'optimizer': \"adam\",\n",
        "    'momentum': 0.9,\n",
        "}\n",
        "\n",
        "loss_criterion = nn.CrossEntropyLoss()\n",
        "\n",
        "if hyperparams['optimizer'] == 'adam':\n",
        "    optimizer = torch.optim.Adam(\n",
        "        params=model.parameters(),\n",
        "        lr=hyperparams['lr']\n",
        "    )\n",
        "elif hyperparams['optimizer'] == 'sgd':\n",
        "    optimizer = torch.optim.SGD(\n",
        "        params=model.parameters(),\n",
        "        lr=hyperparams['lr'],\n",
        "        momentum=hyperparams['momentum']\n",
        "    )"
      ],
      "metadata": {
        "id": "-IG7pcgkDiw6"
      },
      "execution_count": 173,
      "outputs": []
    },
    {
      "cell_type": "markdown",
      "source": [
        "## Train loop"
      ],
      "metadata": {
        "id": "Iw6TpiLhIYUc"
      }
    },
    {
      "cell_type": "code",
      "source": [
        "train_losses = []\n",
        "train_accuracies = []\n",
        "val_losses = []\n",
        "val_accuracies = []\n",
        "\n",
        "for epoch in range(1, hyperparams['num_epochs'] + 1):\n",
        "    train_loss, train_accuracy = train_epoch(model, train_dataloader, loss_criterion, optimizer, device)\n",
        "    val_loss, val_accuracy = eval_epoch(model, val_dataloader, loss_criterion, device)\n",
        "\n",
        "    train_losses.append(train_loss)\n",
        "    val_losses.append(val_loss)\n",
        "    train_accuracies.append(train_accuracy)\n",
        "    val_accuracies.append(val_accuracy)\n",
        "\n",
        "    print('\\nEpoch %d'%(epoch))\n",
        "    print('train loss: %10.8f, accuracy: %10.8f'%(train_loss, train_accuracy))\n",
        "    print('val loss: %10.8f, accuracy: %10.8f'%(val_loss, val_accuracy))\n"
      ],
      "metadata": {
        "colab": {
          "base_uri": "https://localhost:8080/"
        },
        "id": "pAwmHETaI81F",
        "outputId": "dc5b450f-4277-454c-c137-24a06b05950c"
      },
      "execution_count": 174,
      "outputs": [
        {
          "output_type": "stream",
          "name": "stderr",
          "text": [
            "40it [00:00, 320.79it/s]\n"
          ]
        },
        {
          "output_type": "stream",
          "name": "stdout",
          "text": [
            "\n",
            "Epoch 1\n",
            "train loss: 1.55479664, accuracy: 52.67857143\n",
            "val loss: 0.58227188, accuracy: 77.96875000\n"
          ]
        },
        {
          "output_type": "stream",
          "name": "stderr",
          "text": [
            "40it [00:00, 302.45it/s]\n"
          ]
        },
        {
          "output_type": "stream",
          "name": "stdout",
          "text": [
            "\n",
            "Epoch 2\n",
            "train loss: 0.55530229, accuracy: 78.67063492\n",
            "val loss: 0.29945592, accuracy: 89.72656250\n"
          ]
        },
        {
          "output_type": "stream",
          "name": "stderr",
          "text": [
            "40it [00:00, 298.42it/s]\n"
          ]
        },
        {
          "output_type": "stream",
          "name": "stdout",
          "text": [
            "\n",
            "Epoch 3\n",
            "train loss: 0.35405488, accuracy: 87.23544974\n",
            "val loss: 0.30529047, accuracy: 88.51562500\n"
          ]
        },
        {
          "output_type": "stream",
          "name": "stderr",
          "text": [
            "40it [00:00, 274.57it/s]\n"
          ]
        },
        {
          "output_type": "stream",
          "name": "stdout",
          "text": [
            "\n",
            "Epoch 4\n",
            "train loss: 0.24582571, accuracy: 91.15410053\n",
            "val loss: 0.19811056, accuracy: 92.77343750\n"
          ]
        },
        {
          "output_type": "stream",
          "name": "stderr",
          "text": [
            "40it [00:00, 324.40it/s]\n"
          ]
        },
        {
          "output_type": "stream",
          "name": "stdout",
          "text": [
            "\n",
            "Epoch 5\n",
            "train loss: 0.19329811, accuracy: 93.12169312\n",
            "val loss: 0.14178462, accuracy: 95.03906250\n"
          ]
        },
        {
          "output_type": "stream",
          "name": "stderr",
          "text": [
            "40it [00:00, 328.37it/s]\n"
          ]
        },
        {
          "output_type": "stream",
          "name": "stdout",
          "text": [
            "\n",
            "Epoch 6\n",
            "train loss: 0.16825644, accuracy: 93.89054233\n",
            "val loss: 0.14503600, accuracy: 94.80468750\n"
          ]
        },
        {
          "output_type": "stream",
          "name": "stderr",
          "text": [
            "40it [00:00, 327.82it/s]\n"
          ]
        },
        {
          "output_type": "stream",
          "name": "stdout",
          "text": [
            "\n",
            "Epoch 7\n",
            "train loss: 0.13510951, accuracy: 95.26289683\n",
            "val loss: 0.11565717, accuracy: 95.82031250\n"
          ]
        },
        {
          "output_type": "stream",
          "name": "stderr",
          "text": [
            "40it [00:00, 329.33it/s]\n"
          ]
        },
        {
          "output_type": "stream",
          "name": "stdout",
          "text": [
            "\n",
            "Epoch 8\n",
            "train loss: 0.13795524, accuracy: 95.19675926\n",
            "val loss: 0.14742647, accuracy: 95.15625000\n"
          ]
        },
        {
          "output_type": "stream",
          "name": "stderr",
          "text": [
            "40it [00:00, 322.68it/s]\n"
          ]
        },
        {
          "output_type": "stream",
          "name": "stdout",
          "text": [
            "\n",
            "Epoch 9\n",
            "train loss: 0.10375586, accuracy: 96.41203704\n",
            "val loss: 0.09496525, accuracy: 96.91406250\n"
          ]
        },
        {
          "output_type": "stream",
          "name": "stderr",
          "text": [
            "40it [00:00, 317.22it/s]\n"
          ]
        },
        {
          "output_type": "stream",
          "name": "stdout",
          "text": [
            "\n",
            "Epoch 10\n",
            "train loss: 0.09178609, accuracy: 96.87500000\n",
            "val loss: 0.10851566, accuracy: 96.25000000\n"
          ]
        },
        {
          "output_type": "stream",
          "name": "stderr",
          "text": [
            "40it [00:00, 290.96it/s]\n"
          ]
        },
        {
          "output_type": "stream",
          "name": "stdout",
          "text": [
            "\n",
            "Epoch 11\n",
            "train loss: 0.08145534, accuracy: 97.16435185\n",
            "val loss: 0.06984932, accuracy: 97.85156250\n"
          ]
        },
        {
          "output_type": "stream",
          "name": "stderr",
          "text": [
            "40it [00:00, 288.83it/s]\n"
          ]
        },
        {
          "output_type": "stream",
          "name": "stdout",
          "text": [
            "\n",
            "Epoch 12\n",
            "train loss: 0.08295744, accuracy: 97.00727513\n",
            "val loss: 0.10459153, accuracy: 96.52343750\n"
          ]
        },
        {
          "output_type": "stream",
          "name": "stderr",
          "text": [
            "40it [00:00, 326.44it/s]\n"
          ]
        },
        {
          "output_type": "stream",
          "name": "stdout",
          "text": [
            "\n",
            "Epoch 13\n",
            "train loss: 0.06857926, accuracy: 97.61904762\n",
            "val loss: 0.07928695, accuracy: 97.61718750\n"
          ]
        },
        {
          "output_type": "stream",
          "name": "stderr",
          "text": [
            "40it [00:00, 322.27it/s]\n"
          ]
        },
        {
          "output_type": "stream",
          "name": "stdout",
          "text": [
            "\n",
            "Epoch 14\n",
            "train loss: 0.07075721, accuracy: 97.65211640\n",
            "val loss: 0.07871771, accuracy: 97.81250000\n"
          ]
        },
        {
          "output_type": "stream",
          "name": "stderr",
          "text": [
            "40it [00:00, 331.83it/s]\n"
          ]
        },
        {
          "output_type": "stream",
          "name": "stdout",
          "text": [
            "\n",
            "Epoch 15\n",
            "train loss: 0.07607515, accuracy: 97.39583333\n",
            "val loss: 0.06728864, accuracy: 98.04687500\n"
          ]
        },
        {
          "output_type": "stream",
          "name": "stderr",
          "text": [
            "40it [00:00, 315.52it/s]\n"
          ]
        },
        {
          "output_type": "stream",
          "name": "stdout",
          "text": [
            "\n",
            "Epoch 16\n",
            "train loss: 0.06443964, accuracy: 97.75132275\n",
            "val loss: 0.08055800, accuracy: 97.61718750\n"
          ]
        },
        {
          "output_type": "stream",
          "name": "stderr",
          "text": [
            "40it [00:00, 317.93it/s]\n"
          ]
        },
        {
          "output_type": "stream",
          "name": "stdout",
          "text": [
            "\n",
            "Epoch 17\n",
            "train loss: 0.05402703, accuracy: 98.12334656\n",
            "val loss: 0.06361154, accuracy: 98.28125000\n"
          ]
        },
        {
          "output_type": "stream",
          "name": "stderr",
          "text": [
            "40it [00:00, 330.61it/s]\n"
          ]
        },
        {
          "output_type": "stream",
          "name": "stdout",
          "text": [
            "\n",
            "Epoch 18\n",
            "train loss: 0.06585822, accuracy: 97.89186508\n",
            "val loss: 0.07957480, accuracy: 97.57812500\n"
          ]
        },
        {
          "output_type": "stream",
          "name": "stderr",
          "text": [
            "40it [00:00, 281.42it/s]\n"
          ]
        },
        {
          "output_type": "stream",
          "name": "stdout",
          "text": [
            "\n",
            "Epoch 19\n",
            "train loss: 0.05146496, accuracy: 98.13988095\n",
            "val loss: 0.08128704, accuracy: 98.04687500\n"
          ]
        },
        {
          "output_type": "stream",
          "name": "stderr",
          "text": [
            "40it [00:00, 282.54it/s]\n"
          ]
        },
        {
          "output_type": "stream",
          "name": "stdout",
          "text": [
            "\n",
            "Epoch 20\n",
            "train loss: 0.06798084, accuracy: 97.87533069\n",
            "val loss: 0.08073689, accuracy: 97.65625000\n"
          ]
        },
        {
          "output_type": "stream",
          "name": "stderr",
          "text": [
            "40it [00:00, 329.75it/s]\n"
          ]
        },
        {
          "output_type": "stream",
          "name": "stdout",
          "text": [
            "\n",
            "Epoch 21\n",
            "train loss: 0.06002173, accuracy: 97.99107143\n",
            "val loss: 0.06975328, accuracy: 98.08593750\n"
          ]
        },
        {
          "output_type": "stream",
          "name": "stderr",
          "text": [
            "40it [00:00, 331.86it/s]\n"
          ]
        },
        {
          "output_type": "stream",
          "name": "stdout",
          "text": [
            "\n",
            "Epoch 22\n",
            "train loss: 0.04215125, accuracy: 98.65244709\n",
            "val loss: 0.10050077, accuracy: 97.38281250\n"
          ]
        },
        {
          "output_type": "stream",
          "name": "stderr",
          "text": [
            "40it [00:00, 326.68it/s]\n"
          ]
        },
        {
          "output_type": "stream",
          "name": "stdout",
          "text": [
            "\n",
            "Epoch 23\n",
            "train loss: 0.04324679, accuracy: 98.53670635\n",
            "val loss: 0.10521168, accuracy: 97.46093750\n"
          ]
        },
        {
          "output_type": "stream",
          "name": "stderr",
          "text": [
            "40it [00:00, 318.14it/s]\n"
          ]
        },
        {
          "output_type": "stream",
          "name": "stdout",
          "text": [
            "\n",
            "Epoch 24\n",
            "train loss: 0.04796548, accuracy: 98.46230159\n",
            "val loss: 0.08508289, accuracy: 97.57812500\n"
          ]
        },
        {
          "output_type": "stream",
          "name": "stderr",
          "text": [
            "40it [00:00, 311.47it/s]\n"
          ]
        },
        {
          "output_type": "stream",
          "name": "stdout",
          "text": [
            "\n",
            "Epoch 25\n",
            "train loss: 0.05111297, accuracy: 98.23908730\n",
            "val loss: 0.07215765, accuracy: 98.28125000\n"
          ]
        },
        {
          "output_type": "stream",
          "name": "stderr",
          "text": [
            "40it [00:00, 326.47it/s]\n"
          ]
        },
        {
          "output_type": "stream",
          "name": "stdout",
          "text": [
            "\n",
            "Epoch 26\n",
            "train loss: 0.05259201, accuracy: 98.42096561\n",
            "val loss: 0.06750662, accuracy: 98.16406250\n"
          ]
        },
        {
          "output_type": "stream",
          "name": "stderr",
          "text": [
            "40it [00:00, 286.42it/s]\n"
          ]
        },
        {
          "output_type": "stream",
          "name": "stdout",
          "text": [
            "\n",
            "Epoch 27\n",
            "train loss: 0.04456769, accuracy: 98.43750000\n",
            "val loss: 0.06246507, accuracy: 98.67187500\n"
          ]
        },
        {
          "output_type": "stream",
          "name": "stderr",
          "text": [
            "40it [00:00, 278.85it/s]\n"
          ]
        },
        {
          "output_type": "stream",
          "name": "stdout",
          "text": [
            "\n",
            "Epoch 28\n",
            "train loss: 0.04180716, accuracy: 98.71031746\n",
            "val loss: 0.06614530, accuracy: 98.39843750\n"
          ]
        },
        {
          "output_type": "stream",
          "name": "stderr",
          "text": [
            "40it [00:00, 327.21it/s]\n"
          ]
        },
        {
          "output_type": "stream",
          "name": "stdout",
          "text": [
            "\n",
            "Epoch 29\n",
            "train loss: 0.06373287, accuracy: 97.97453704\n",
            "val loss: 0.09052284, accuracy: 97.50000000\n"
          ]
        },
        {
          "output_type": "stream",
          "name": "stderr",
          "text": [
            "40it [00:00, 321.57it/s]"
          ]
        },
        {
          "output_type": "stream",
          "name": "stdout",
          "text": [
            "\n",
            "Epoch 30\n",
            "train loss: 0.04888213, accuracy: 98.60284392\n",
            "val loss: 0.07284088, accuracy: 98.12500000\n"
          ]
        },
        {
          "output_type": "stream",
          "name": "stderr",
          "text": [
            "\n"
          ]
        }
      ]
    },
    {
      "cell_type": "markdown",
      "source": [
        "## Test accuracy"
      ],
      "metadata": {
        "id": "zxNur_ZbcCK-"
      }
    },
    {
      "cell_type": "code",
      "source": [
        "test_loss, test_accuracy = eval_epoch(model, test_dataloader, loss_criterion, device)\n",
        "print('test loss: %10.8f, accuracy: %10.8f'%(test_loss, test_accuracy))"
      ],
      "metadata": {
        "colab": {
          "base_uri": "https://localhost:8080/"
        },
        "id": "6yVrOKUzcEph",
        "outputId": "258b369f-41b1-4350-fe58-d070051fad90"
      },
      "execution_count": 175,
      "outputs": [
        {
          "output_type": "stream",
          "name": "stderr",
          "text": [
            "40it [00:00, 293.17it/s]"
          ]
        },
        {
          "output_type": "stream",
          "name": "stdout",
          "text": [
            "test loss: 0.10788644, accuracy: 97.18750000\n"
          ]
        },
        {
          "output_type": "stream",
          "name": "stderr",
          "text": [
            "\n"
          ]
        }
      ]
    },
    {
      "cell_type": "code",
      "source": [
        "def get_predictions_and_labels(model, dataloader, device):\n",
        "    model.eval()\n",
        "    predictions = []\n",
        "    labels = []\n",
        "    with torch.no_grad():\n",
        "        for batch_idx, batch in tqdm(enumerate(val_dataloader)):\n",
        "            batch_mfcc, batch_labels = batch\n",
        "\n",
        "            # move data to GPU\n",
        "            batch_mfcc = batch_mfcc.to(device)\n",
        "            batch_labels = batch_labels.to(device)\n",
        "\n",
        "            # batch_size x 10\n",
        "            output = model(batch_mfcc)\n",
        "\n",
        "            predictions.append(output.argmax(dim=1, keepdim=True))\n",
        "            labels.append(batch_labels)\n",
        "\n",
        "    predictions = torch.cat(predictions, dim=0)\n",
        "    labels = torch.cat(labels, dim=0)\n",
        "\n",
        "    return predictions, labels"
      ],
      "metadata": {
        "id": "XdzPgbfbeeLh"
      },
      "execution_count": 176,
      "outputs": []
    },
    {
      "cell_type": "markdown",
      "source": [
        "## Confusion matrix"
      ],
      "metadata": {
        "id": "XL4ELVNmd51e"
      }
    },
    {
      "cell_type": "code",
      "source": [
        "predictions, labels = get_predictions_and_labels(model, test_dataloader, device)\n",
        "cm = confusion_matrix(labels.cpu().numpy(), predictions.cpu().numpy())"
      ],
      "metadata": {
        "colab": {
          "base_uri": "https://localhost:8080/"
        },
        "id": "WjmyOrQBd7tg",
        "outputId": "7964becf-3c6c-4c91-c3e8-fad76fdfd205"
      },
      "execution_count": 177,
      "outputs": [
        {
          "output_type": "stream",
          "name": "stderr",
          "text": [
            "40it [00:00, 463.09it/s]\n"
          ]
        }
      ]
    },
    {
      "cell_type": "code",
      "source": [
        "labels = [\"american\", \"australian\", \"bangla\", \"british\", \"indian\", \"malayalam\", \"odiya\", \"telugu\", \"welsh\"]\n",
        "\n",
        "df_cm = pd.DataFrame(cm, index = [i for i in labels],\n",
        "                  columns = [i for i in labels])\n",
        "plt.figure(figsize = (10, 8))\n",
        "sn.heatmap(df_cm, annot=True, fmt='g')\n",
        "plt.savefig('/content/drive/MyDrive/licenta/confustionMatrix')"
      ],
      "metadata": {
        "colab": {
          "base_uri": "https://localhost:8080/",
          "height": 676
        },
        "id": "vZ4w8kbygIKA",
        "outputId": "93560051-aad4-4439-d0ea-0dc7131374a2"
      },
      "execution_count": 178,
      "outputs": [
        {
          "output_type": "display_data",
          "data": {
            "text/plain": [
              "<Figure size 1000x800 with 2 Axes>"
            ],
            "image/png": "[encoded data removed]"
          },
          "metadata": {}
        }
      ]
    },
    {
      "cell_type": "markdown",
      "source": [
        "## Accuracy and loss plot"
      ],
      "metadata": {
        "id": "6aGvNG7hj410"
      }
    },
    {
      "cell_type": "code",
      "source": [
        "# Data\n",
        "epochs = range(1, 31)\n",
        "\n",
        "# Plotting accuracy\n",
        "plt.figure(figsize=(10, 5))\n",
        "plt.plot(epochs, train_accuracies, 'b', label='Training accuracy')\n",
        "plt.plot(epochs, val_accuracies, 'r', label='Validation accuracy')\n",
        "plt.title('Training and validation accuracy')\n",
        "plt.xlabel('Epochs')\n",
        "plt.ylabel('Accuracy')\n",
        "plt.legend()\n",
        "plt.grid(True)\n",
        "plt.show()\n",
        "\n",
        "# Plotting loss\n",
        "plt.figure(figsize=(10, 5))\n",
        "plt.plot(epochs, train_losses, 'b', label='Training loss')\n",
        "plt.plot(epochs, val_losses, 'r', label='Validation loss')\n",
        "plt.title('Training and validation loss')\n",
        "plt.xlabel('Epochs')\n",
        "plt.ylabel('Loss')\n",
        "plt.legend()\n",
        "plt.grid(True)\n",
        "plt.show()"
      ],
      "metadata": {
        "colab": {
          "base_uri": "https://localhost:8080/",
          "height": 957
        },
        "id": "gUXAM6rOj7cS",
        "outputId": "c1fbdf5a-790a-49f5-91cd-2ef060a4b1ea"
      },
      "execution_count": 179,
      "outputs": [
        {
          "output_type": "display_data",
          "data": {
            "text/plain": [
              "<Figure size 1000x500 with 1 Axes>"
            ],
            "image/png": "[encoded data removed]"
          },
          "metadata": {}
        },
        {
          "output_type": "display_data",
          "data": {
            "text/plain": [
              "<Figure size 1000x500 with 1 Axes>"
            ],
            "image/png": "[encoded data removed]"
          },
          "metadata": {}
        }
      ]
    }
  ]
}
