{
  "metadata": {
    "colab": {
      "provenance": [],
      "gpuType": "T4",
      "toc_visible": true
    },
    "kernelspec": {
      "name": "python3",
      "display_name": "Python 3",
      "language": "python"
    },
    "language_info": {
      "name": "python",
      "version": "3.10.13",
      "mimetype": "text/x-python",
      "codemirror_mode": {
        "name": "ipython",
        "version": 3
      },
      "pygments_lexer": "ipython3",
      "nbconvert_exporter": "python",
      "file_extension": ".py"
    },
    "accelerator": "GPU",
    "kaggle": {
      "accelerator": "nvidiaTeslaT4",
      "dataSources": [
        {
          "sourceId": 8430826,
          "sourceType": "datasetVersion",
          "datasetId": 5019825
        }
      ],
      "dockerImageVersionId": 30699,
      "isInternetEnabled": true,
      "language": "python",
      "sourceType": "notebook",
      "isGpuEnabled": true
    }
  },
  "nbformat_minor": 0,
  "nbformat": 4,
  "cells": [
    {
      "cell_type": "markdown",
      "source": [
        "## Imports"
      ],
      "metadata": {
        "id": "maez1obb8AQN"
      }
    },
    {
      "cell_type": "code",
      "source": [
        "from google.colab import drive\n",
        "\n",
        "from torch.utils.data import Dataset, DataLoader\n",
        "import torch\n",
        "from torch import nn\n",
        "import torch.nn.functional as F\n",
        "\n",
        "from sklearn.metrics import confusion_matrix, precision_score, recall_score\n",
        "\n",
        "import numpy as np\n",
        "\n",
        "import matplotlib.pyplot as plt\n",
        "import seaborn as sn\n",
        "import pandas as pd\n",
        "\n",
        "from tqdm import tqdm"
      ],
      "metadata": {
        "id": "DWWUO0_i77vu",
        "execution": {
          "iopub.status.busy": "2024-05-20T17:38:34.009793Z",
          "iopub.execute_input": "2024-05-20T17:38:34.010111Z",
          "iopub.status.idle": "2024-05-20T17:38:39.169678Z",
          "shell.execute_reply.started": "2024-05-20T17:38:34.010083Z",
          "shell.execute_reply": "2024-05-20T17:38:39.168729Z"
        },
        "trusted": true
      },
      "execution_count": 1,
      "outputs": []
    },
    {
      "cell_type": "markdown",
      "source": [
        "## Mount google drive"
      ],
      "metadata": {
        "id": "9-6dK5-P8J2D"
      }
    },
    {
      "cell_type": "code",
      "source": [
        "drive.mount('/content/drive/')"
      ],
      "metadata": {
        "colab": {
          "base_uri": "https://localhost:8080/"
        },
        "id": "QOhdzydT8Lip",
        "outputId": "361c1b2f-5439-437f-c8e8-a028c0c67416"
      },
      "execution_count": 2,
      "outputs": [
        {
          "output_type": "stream",
          "name": "stdout",
          "text": [
            "Mounted at /content/drive/\n"
          ]
        }
      ]
    },
    {
      "cell_type": "markdown",
      "source": [
        "## Select device"
      ],
      "metadata": {
        "id": "Mln2GgCNKBUA"
      }
    },
    {
      "cell_type": "code",
      "source": [
        "device = torch.device('cuda') if torch.cuda.is_available() else torch.device('cpu')\n",
        "print(\"Training on\", device)"
      ],
      "metadata": {
        "colab": {
          "base_uri": "https://localhost:8080/"
        },
        "id": "hS-zNBPEKDYB",
        "outputId": "17022121-1cfb-4f9c-ef85-8756fb1d7588",
        "execution": {
          "iopub.status.busy": "2024-05-20T17:38:47.005739Z",
          "iopub.execute_input": "2024-05-20T17:38:47.006234Z",
          "iopub.status.idle": "2024-05-20T17:38:47.069381Z",
          "shell.execute_reply.started": "2024-05-20T17:38:47.006203Z",
          "shell.execute_reply": "2024-05-20T17:38:47.068387Z"
        },
        "trusted": true
      },
      "execution_count": 3,
      "outputs": [
        {
          "output_type": "stream",
          "name": "stdout",
          "text": [
            "Training on cuda\n"
          ]
        }
      ]
    },
    {
      "cell_type": "markdown",
      "source": [
        "## Dataset class"
      ],
      "metadata": {
        "id": "XCXdzlBN8d7V"
      }
    },
    {
      "cell_type": "code",
      "source": [
        "class AudioDataset(Dataset):\n",
        "    def __init__(self, data_filepath, labels_filepath):\n",
        "        self.data = np.load(data_filepath)\n",
        "        self.data = np.expand_dims(self.data, axis=1)\n",
        "        self.labels = np.load(labels_filepath)\n",
        "\n",
        "    def __len__(self):\n",
        "        return len(self.labels)\n",
        "\n",
        "    def __getitem__(self, idx):\n",
        "        data = self.data[idx]\n",
        "        label = self.labels[idx]\n",
        "        return data, label\n",
        "\n",
        "features_path = '/content/drive/MyDrive/licenta/arrays/amplitude_features.npy'\n",
        "labels_path = '/content/drive/MyDrive/licenta/arrays/labels.npy'\n",
        "dataset = AudioDataset(data_filepath=features_path, labels_filepath=labels_path)"
      ],
      "metadata": {
        "id": "Cu3DfR--8fKO",
        "execution": {
          "iopub.status.busy": "2024-05-20T18:22:00.752860Z",
          "iopub.execute_input": "2024-05-20T18:22:00.753236Z",
          "iopub.status.idle": "2024-05-20T18:22:02.249751Z",
          "shell.execute_reply.started": "2024-05-20T18:22:00.753209Z",
          "shell.execute_reply": "2024-05-20T18:22:02.248900Z"
        },
        "trusted": true
      },
      "execution_count": 4,
      "outputs": []
    },
    {
      "cell_type": "markdown",
      "source": [
        "## Normalization functions"
      ],
      "metadata": {
        "id": "z1Hm41xOZkyU"
      }
    },
    {
      "cell_type": "code",
      "source": [
        "def min_max_normalization(data):\n",
        "    data = (data - np.min(data, axis=0)) / (np.max(data, axis=0) - np.min(data, axis=0))\n",
        "    return data\n",
        "\n",
        "def mean_variance_normalization(data):\n",
        "    mean = np.mean(data, axis=0, keepdims=True)\n",
        "    std = np.std(data, axis=0, keepdims=True)\n",
        "    normalized_data = (data - mean) / std\n",
        "    return normalized_data"
      ],
      "metadata": {
        "id": "4A8rJ0J3ZoSr",
        "execution": {
          "iopub.status.busy": "2024-05-20T18:20:47.896921Z",
          "iopub.execute_input": "2024-05-20T18:20:47.897758Z",
          "iopub.status.idle": "2024-05-20T18:20:47.903488Z",
          "shell.execute_reply.started": "2024-05-20T18:20:47.897724Z",
          "shell.execute_reply": "2024-05-20T18:20:47.902606Z"
        },
        "trusted": true
      },
      "execution_count": 5,
      "outputs": []
    },
    {
      "cell_type": "markdown",
      "source": [
        "## Dataloader"
      ],
      "metadata": {
        "id": "_9MpqTm89j8F"
      }
    },
    {
      "cell_type": "code",
      "source": [
        "# split the dataset into three parts (train 70%, test 15%, validation 15%)\n",
        "test_size = 0.15\n",
        "val_size = 0.15\n",
        "\n",
        "test_amount, val_amount = int(dataset.__len__() * test_size), int(dataset.__len__() * val_size)\n",
        "\n",
        "train_set, val_set, test_set = torch.utils.data.random_split(dataset, [\n",
        "            (dataset.__len__() - (test_amount + val_amount)),\n",
        "            test_amount,\n",
        "            val_amount\n",
        "])\n",
        "\n",
        "# train_set.dataset.data = mean_variance_normalization(train_set.dataset.data)\n",
        "# val_set.dataset.data = mean_variance_normalization(val_set.dataset.data)\n",
        "# test_set.dataset.data = mean_variance_normalization(test_set.dataset.data)\n",
        "\n",
        "B = 64\n",
        "\n",
        "train_dataloader = torch.utils.data.DataLoader(\n",
        "            train_set,\n",
        "            batch_size=B,\n",
        "            shuffle=True,\n",
        "            drop_last=True,\n",
        ")\n",
        "val_dataloader = torch.utils.data.DataLoader(\n",
        "            val_set,\n",
        "            batch_size=B,\n",
        "            shuffle=False,\n",
        "            drop_last=True,\n",
        ")\n",
        "test_dataloader = torch.utils.data.DataLoader(\n",
        "            test_set,\n",
        "            batch_size=B,\n",
        "            shuffle=False,\n",
        "            drop_last=True,\n",
        ")"
      ],
      "metadata": {
        "id": "726mQPTu9lHz",
        "execution": {
          "iopub.status.busy": "2024-05-20T18:22:06.260577Z",
          "iopub.execute_input": "2024-05-20T18:22:06.261194Z",
          "iopub.status.idle": "2024-05-20T18:22:06.278614Z",
          "shell.execute_reply.started": "2024-05-20T18:22:06.261164Z",
          "shell.execute_reply": "2024-05-20T18:22:06.277754Z"
        },
        "trusted": true
      },
      "execution_count": 6,
      "outputs": []
    },
    {
      "cell_type": "markdown",
      "source": [
        "## Train/eval functions"
      ],
      "metadata": {
        "id": "VP5-QH0KI7i4"
      }
    },
    {
      "cell_type": "code",
      "source": [
        "def train_epoch(model, train_dataloader, loss_crt, optimizer, device):\n",
        "    \"\"\"\n",
        "    model: Model object\n",
        "    train_dataloader: DataLoader over the training dataset\n",
        "    loss_crt: loss function object\n",
        "    optimizer: Optimizer object\n",
        "    device: torch.device('cpu) or torch.device('cuda')\n",
        "\n",
        "    The function returns:\n",
        "     - the epoch training loss, which is an average over the individual batch\n",
        "       losses\n",
        "    \"\"\"\n",
        "    model.train()\n",
        "    epoch_loss = 0.0\n",
        "    epoch_accuracy = 0.0\n",
        "    num_batches = len(train_dataloader)\n",
        "\n",
        "    for batch_idx, batch in enumerate(train_dataloader):\n",
        "        # shape: batch_size x 1 x 13 x 345, batch_size\n",
        "        batch_data, batch_labels = batch\n",
        "\n",
        "        # move data to GPU\n",
        "        batch_data = batch_data.to(device)\n",
        "        batch_labels = batch_labels.to(device)\n",
        "\n",
        "        # initialize as zeros all the gradients of the model\n",
        "        model.zero_grad()\n",
        "\n",
        "        # get predictions from the FORWARD pass\n",
        "        # shape: batch_size x 9\n",
        "        output = model(batch_data)\n",
        "\n",
        "        loss = loss_crt(output, batch_labels.squeeze())\n",
        "        loss_scalar = loss.item()\n",
        "\n",
        "        # BACKPROPAGATE the gradients\n",
        "        loss.backward()\n",
        "        # use the gradients to OPTIMISE the model\n",
        "        optimizer.step()\n",
        "\n",
        "        epoch_loss += loss_scalar\n",
        "\n",
        "        pred = output.argmax(dim=1, keepdim=True)\n",
        "        epoch_accuracy += pred.eq(batch_labels.view_as(pred)).float().mean().item()\n",
        "\n",
        "    epoch_loss = epoch_loss / num_batches\n",
        "    epoch_accuracy = 100. * epoch_accuracy / num_batches\n",
        "    return epoch_loss, epoch_accuracy\n",
        "\n",
        "def eval_epoch(model, val_dataloader, loss_crt, device):\n",
        "    \"\"\"\n",
        "    model: Model object\n",
        "    val_dataloader: DataLoader over the validation dataset\n",
        "    loss_crt: loss function object\n",
        "    device: torch.device('cpu) or torch.device('cuda')\n",
        "\n",
        "    The function returns:\n",
        "     - the epoch validation loss, which is an average over the individual batch\n",
        "       losses\n",
        "    \"\"\"\n",
        "    model.eval()\n",
        "    epoch_loss = 0.0\n",
        "    epoch_accuracy = 0.0\n",
        "    num_batches = len(val_dataloader)\n",
        "    with torch.no_grad():\n",
        "        for batch_idx, batch in tqdm(enumerate(val_dataloader)):\n",
        "            # shape: batch_size x 1 x 13 x 345, batch_size\n",
        "            batch_data, batch_labels = batch\n",
        "\n",
        "            # move data to GPU\n",
        "            batch_data = batch_data.to(device)\n",
        "            batch_labels = batch_labels.to(device)\n",
        "\n",
        "            # batch_size x 10\n",
        "            output = model(batch_data)\n",
        "\n",
        "            loss = loss_crt(output, batch_labels.squeeze())\n",
        "            loss_scalar = loss.item()\n",
        "\n",
        "            epoch_loss += loss_scalar\n",
        "\n",
        "            pred = output.argmax(dim=1, keepdim=True)\n",
        "            epoch_accuracy += pred.eq(batch_labels.view_as(pred)).float().mean().item()\n",
        "\n",
        "    epoch_loss = epoch_loss/num_batches\n",
        "    epoch_accuracy = 100. * epoch_accuracy/num_batches\n",
        "    return epoch_loss, epoch_accuracy"
      ],
      "metadata": {
        "id": "_jaiFzRQIZ_2",
        "execution": {
          "iopub.status.busy": "2024-05-20T18:22:06.857441Z",
          "iopub.execute_input": "2024-05-20T18:22:06.857995Z",
          "iopub.status.idle": "2024-05-20T18:22:06.870054Z",
          "shell.execute_reply.started": "2024-05-20T18:22:06.857966Z",
          "shell.execute_reply": "2024-05-20T18:22:06.869082Z"
        },
        "trusted": true
      },
      "execution_count": 7,
      "outputs": []
    },
    {
      "cell_type": "markdown",
      "source": [
        "## Model class"
      ],
      "metadata": {
        "id": "zqNhw9CUAt6D"
      }
    },
    {
      "cell_type": "code",
      "source": [
        "class AccentClassifier(nn.Module):\n",
        "    def __init__(self):\n",
        "        super().__init__()\n",
        "        self.conv1 = nn.Conv1d(in_channels = 1, out_channels = 32, kernel_size = 100, stride=10)\n",
        "        self.conv2 = nn.Conv1d(in_channels = 32, out_channels = 16, kernel_size = 100, stride=10)\n",
        "        self.fc1 = nn.Linear(in_features = 2480, out_features = 512)\n",
        "        self.fc2 = nn.Linear(in_features = 512, out_features = 9)\n",
        "        self.activation_fn = nn.ReLU()\n",
        "        self.pool = nn.MaxPool1d(kernel_size=2, stride=2)\n",
        "        self.dropout = nn.Dropout(0.5)\n",
        "\n",
        "    def forward(self, x):\n",
        "        x = self.activation_fn(self.conv1(x))\n",
        "        x = self.pool(x)\n",
        "        x = self.activation_fn(self.conv2(x))\n",
        "        x = self.pool(x)\n",
        "        x = x.view(B, -1)\n",
        "        x = self.dropout(x)\n",
        "        x = self.activation_fn(self.fc1(x))\n",
        "        x = self.dropout(x)\n",
        "        x = self.fc2(x)\n",
        "        return x\n",
        "\n",
        "model = AccentClassifier().to(device)"
      ],
      "metadata": {
        "id": "d5qMf3nlAufM",
        "execution": {
          "iopub.status.busy": "2024-05-20T18:22:07.467702Z",
          "iopub.execute_input": "2024-05-20T18:22:07.468294Z",
          "iopub.status.idle": "2024-05-20T18:22:07.491111Z",
          "shell.execute_reply.started": "2024-05-20T18:22:07.468263Z",
          "shell.execute_reply": "2024-05-20T18:22:07.490374Z"
        },
        "trusted": true
      },
      "execution_count": 8,
      "outputs": []
    },
    {
      "cell_type": "markdown",
      "source": [
        "## Hyperparameters"
      ],
      "metadata": {
        "id": "dsX_3CCCJhsm"
      }
    },
    {
      "cell_type": "code",
      "source": [
        "hyperparams = {\n",
        "    'lr': 1e-3,\n",
        "    'num_epochs': 15,\n",
        "    'optimizer': \"adam\",\n",
        "    'momentum': 0.9,\n",
        "}\n",
        "\n",
        "loss_criterion = nn.CrossEntropyLoss()\n",
        "\n",
        "if hyperparams['optimizer'] == 'adam':\n",
        "    optimizer = torch.optim.Adam(\n",
        "        params=model.parameters(),\n",
        "        lr=hyperparams['lr']\n",
        "    )\n",
        "elif hyperparams['optimizer'] == 'sgd':\n",
        "    optimizer = torch.optim.SGD(\n",
        "        params=model.parameters(),\n",
        "        lr=hyperparams['lr'],\n",
        "        momentum=hyperparams['momentum']\n",
        "    )"
      ],
      "metadata": {
        "id": "-IG7pcgkDiw6",
        "execution": {
          "iopub.status.busy": "2024-05-20T18:22:07.966984Z",
          "iopub.execute_input": "2024-05-20T18:22:07.967528Z",
          "iopub.status.idle": "2024-05-20T18:22:07.974019Z",
          "shell.execute_reply.started": "2024-05-20T18:22:07.967499Z",
          "shell.execute_reply": "2024-05-20T18:22:07.973119Z"
        },
        "trusted": true
      },
      "execution_count": 9,
      "outputs": []
    },
    {
      "cell_type": "markdown",
      "source": [
        "## Train loop"
      ],
      "metadata": {
        "id": "Iw6TpiLhIYUc"
      }
    },
    {
      "cell_type": "code",
      "source": [
        "train_losses = []\n",
        "train_accuracies = []\n",
        "val_losses = []\n",
        "val_accuracies = []\n",
        "\n",
        "for epoch in range(1, hyperparams['num_epochs'] + 1):\n",
        "    train_loss, train_accuracy = train_epoch(model, train_dataloader, loss_criterion, optimizer, device)\n",
        "    val_loss, val_accuracy = eval_epoch(model, val_dataloader, loss_criterion, device)\n",
        "\n",
        "    train_losses.append(train_loss)\n",
        "    val_losses.append(val_loss)\n",
        "    train_accuracies.append(train_accuracy)\n",
        "    val_accuracies.append(val_accuracy)\n",
        "\n",
        "    print('\\nEpoch %d'%(epoch))\n",
        "    print('train loss: %10.8f, accuracy: %10.8f'%(train_loss, train_accuracy))\n",
        "    print('val loss: %10.8f, accuracy: %10.8f'%(val_loss, val_accuracy))"
      ],
      "metadata": {
        "id": "pAwmHETaI81F",
        "execution": {
          "iopub.status.busy": "2024-05-20T18:22:08.785446Z",
          "iopub.execute_input": "2024-05-20T18:22:08.786023Z",
          "iopub.status.idle": "2024-05-20T18:22:45.566119Z",
          "shell.execute_reply.started": "2024-05-20T18:22:08.785992Z",
          "shell.execute_reply": "2024-05-20T18:22:45.565169Z"
        },
        "trusted": true,
        "outputId": "06ec73ee-c9b5-4c11-c2f3-226f72858627",
        "colab": {
          "base_uri": "https://localhost:8080/"
        }
      },
      "execution_count": 10,
      "outputs": [
        {
          "output_type": "stream",
          "name": "stderr",
          "text": [
            "/usr/local/lib/python3.10/dist-packages/torch/nn/modules/conv.py:306: UserWarning: Plan failed with a cudnnException: CUDNN_BACKEND_EXECUTION_PLAN_DESCRIPTOR: cudnnFinalize Descriptor Failed cudnn_status: CUDNN_STATUS_NOT_SUPPORTED (Triggered internally at ../aten/src/ATen/native/cudnn/Conv_v8.cpp:919.)\n",
            "  return F.conv1d(input, weight, bias, self.stride,\n",
            "40it [00:00, 56.85it/s]\n"
          ]
        },
        {
          "output_type": "stream",
          "name": "stdout",
          "text": [
            "\n",
            "Epoch 1\n",
            "train loss: 1.37084873, accuracy: 48.80125661\n",
            "val loss: 0.70933442, accuracy: 72.42187500\n"
          ]
        },
        {
          "output_type": "stream",
          "name": "stderr",
          "text": [
            "40it [00:00, 66.82it/s]\n"
          ]
        },
        {
          "output_type": "stream",
          "name": "stdout",
          "text": [
            "\n",
            "Epoch 2\n",
            "train loss: 0.59480161, accuracy: 76.59556878\n",
            "val loss: 0.47508480, accuracy: 81.21093750\n"
          ]
        },
        {
          "output_type": "stream",
          "name": "stderr",
          "text": [
            "40it [00:00, 77.55it/s]\n"
          ]
        },
        {
          "output_type": "stream",
          "name": "stdout",
          "text": [
            "\n",
            "Epoch 3\n",
            "train loss: 0.34006103, accuracy: 87.46693122\n",
            "val loss: 0.19389539, accuracy: 93.59375000\n"
          ]
        },
        {
          "output_type": "stream",
          "name": "stderr",
          "text": [
            "40it [00:00, 75.85it/s]\n"
          ]
        },
        {
          "output_type": "stream",
          "name": "stdout",
          "text": [
            "\n",
            "Epoch 4\n",
            "train loss: 0.23578028, accuracy: 91.39384921\n",
            "val loss: 0.13897855, accuracy: 95.35156250\n"
          ]
        },
        {
          "output_type": "stream",
          "name": "stderr",
          "text": [
            "40it [00:01, 32.37it/s]\n"
          ]
        },
        {
          "output_type": "stream",
          "name": "stdout",
          "text": [
            "\n",
            "Epoch 5\n",
            "train loss: 0.16502726, accuracy: 94.07242063\n",
            "val loss: 0.13902505, accuracy: 94.64843750\n"
          ]
        },
        {
          "output_type": "stream",
          "name": "stderr",
          "text": [
            "40it [00:00, 58.00it/s]\n"
          ]
        },
        {
          "output_type": "stream",
          "name": "stdout",
          "text": [
            "\n",
            "Epoch 6\n",
            "train loss: 0.14784075, accuracy: 94.72552910\n",
            "val loss: 0.13662633, accuracy: 95.19531250\n"
          ]
        },
        {
          "output_type": "stream",
          "name": "stderr",
          "text": [
            "40it [00:00, 76.90it/s]\n"
          ]
        },
        {
          "output_type": "stream",
          "name": "stdout",
          "text": [
            "\n",
            "Epoch 7\n",
            "train loss: 0.11588475, accuracy: 95.82506614\n",
            "val loss: 0.09168646, accuracy: 96.75781250\n"
          ]
        },
        {
          "output_type": "stream",
          "name": "stderr",
          "text": [
            "40it [00:00, 64.39it/s]\n"
          ]
        },
        {
          "output_type": "stream",
          "name": "stdout",
          "text": [
            "\n",
            "Epoch 8\n",
            "train loss: 0.11459325, accuracy: 95.93253968\n",
            "val loss: 0.06423940, accuracy: 97.65625000\n"
          ]
        },
        {
          "output_type": "stream",
          "name": "stderr",
          "text": [
            "40it [00:00, 56.24it/s]\n"
          ]
        },
        {
          "output_type": "stream",
          "name": "stdout",
          "text": [
            "\n",
            "Epoch 9\n",
            "train loss: 0.08876689, accuracy: 96.80886243\n",
            "val loss: 0.05701994, accuracy: 98.20312500\n"
          ]
        },
        {
          "output_type": "stream",
          "name": "stderr",
          "text": [
            "40it [00:00, 76.51it/s]\n"
          ]
        },
        {
          "output_type": "stream",
          "name": "stdout",
          "text": [
            "\n",
            "Epoch 10\n",
            "train loss: 0.08174424, accuracy: 97.09821429\n",
            "val loss: 0.13058480, accuracy: 95.23437500\n"
          ]
        },
        {
          "output_type": "stream",
          "name": "stderr",
          "text": [
            "40it [00:00, 69.37it/s]\n"
          ]
        },
        {
          "output_type": "stream",
          "name": "stdout",
          "text": [
            "\n",
            "Epoch 11\n",
            "train loss: 0.07560305, accuracy: 97.19742063\n",
            "val loss: 0.06579491, accuracy: 97.77343750\n"
          ]
        },
        {
          "output_type": "stream",
          "name": "stderr",
          "text": [
            "40it [00:00, 74.66it/s]\n"
          ]
        },
        {
          "output_type": "stream",
          "name": "stdout",
          "text": [
            "\n",
            "Epoch 12\n",
            "train loss: 0.07319456, accuracy: 97.43716931\n",
            "val loss: 0.07392159, accuracy: 97.73437500\n"
          ]
        },
        {
          "output_type": "stream",
          "name": "stderr",
          "text": [
            "40it [00:00, 76.60it/s]\n"
          ]
        },
        {
          "output_type": "stream",
          "name": "stdout",
          "text": [
            "\n",
            "Epoch 13\n",
            "train loss: 0.06243954, accuracy: 97.90839947\n",
            "val loss: 0.05302786, accuracy: 98.51562500\n"
          ]
        },
        {
          "output_type": "stream",
          "name": "stderr",
          "text": [
            "40it [00:00, 70.11it/s]\n"
          ]
        },
        {
          "output_type": "stream",
          "name": "stdout",
          "text": [
            "\n",
            "Epoch 14\n",
            "train loss: 0.06091578, accuracy: 97.97453704\n",
            "val loss: 0.06653345, accuracy: 97.85156250\n"
          ]
        },
        {
          "output_type": "stream",
          "name": "stderr",
          "text": [
            "40it [00:00, 78.09it/s]"
          ]
        },
        {
          "output_type": "stream",
          "name": "stdout",
          "text": [
            "\n",
            "Epoch 15\n",
            "train loss: 0.06517576, accuracy: 97.70171958\n",
            "val loss: 0.04539091, accuracy: 98.75000000\n"
          ]
        },
        {
          "output_type": "stream",
          "name": "stderr",
          "text": [
            "\n"
          ]
        }
      ]
    },
    {
      "cell_type": "markdown",
      "source": [
        "## Save the model parameteres"
      ],
      "metadata": {
        "id": "HscaHA0rdMie"
      }
    },
    {
      "cell_type": "code",
      "source": [
        "model_path = '/content/drive/MyDrive/licenta/models/CNN_amplitude_parameters.pth.tar'\n",
        "\n",
        "torch.save({\n",
        "    'state_dict': model.state_dict(),\n",
        "}, model_path)"
      ],
      "metadata": {
        "id": "WaF0ADmddNOF"
      },
      "execution_count": 11,
      "outputs": []
    },
    {
      "cell_type": "markdown",
      "source": [
        "## Test accuracy"
      ],
      "metadata": {
        "id": "zxNur_ZbcCK-"
      }
    },
    {
      "cell_type": "code",
      "source": [
        "test_loss, test_accuracy = eval_epoch(model, test_dataloader, loss_criterion, device)\n",
        "print('test loss: %10.8f, accuracy: %10.8f'%(test_loss, test_accuracy))"
      ],
      "metadata": {
        "colab": {
          "base_uri": "https://localhost:8080/"
        },
        "id": "6yVrOKUzcEph",
        "outputId": "5955df21-d6f8-4639-d3ab-ee9471d4d9ab",
        "execution": {
          "iopub.status.busy": "2024-05-20T18:19:36.032161Z",
          "iopub.execute_input": "2024-05-20T18:19:36.032973Z",
          "iopub.status.idle": "2024-05-20T18:19:36.554571Z",
          "shell.execute_reply.started": "2024-05-20T18:19:36.032932Z",
          "shell.execute_reply": "2024-05-20T18:19:36.553619Z"
        },
        "trusted": true
      },
      "execution_count": 13,
      "outputs": [
        {
          "output_type": "stream",
          "name": "stderr",
          "text": [
            "40it [00:00, 71.78it/s]"
          ]
        },
        {
          "output_type": "stream",
          "name": "stdout",
          "text": [
            "test loss: 0.04889395, accuracy: 98.39843750\n"
          ]
        },
        {
          "output_type": "stream",
          "name": "stderr",
          "text": [
            "\n"
          ]
        }
      ]
    },
    {
      "cell_type": "code",
      "source": [
        "def get_predictions_and_labels(model, dataloader, device):\n",
        "    model.eval()\n",
        "    predictions = []\n",
        "    labels = []\n",
        "    with torch.no_grad():\n",
        "        for batch_idx, batch in tqdm(enumerate(val_dataloader)):\n",
        "            batch_mfcc, batch_labels = batch\n",
        "\n",
        "            # move data to GPU\n",
        "            batch_mfcc = batch_mfcc.to(device)\n",
        "            batch_labels = batch_labels.to(device)\n",
        "\n",
        "            # batch_size x 10\n",
        "            output = model(batch_mfcc)\n",
        "\n",
        "            predictions.append(output.argmax(dim=1, keepdim=True))\n",
        "            labels.append(batch_labels)\n",
        "\n",
        "    predictions = torch.cat(predictions, dim=0)\n",
        "    labels = torch.cat(labels, dim=0)\n",
        "\n",
        "    return predictions, labels"
      ],
      "metadata": {
        "id": "XdzPgbfbeeLh",
        "execution": {
          "iopub.status.busy": "2024-05-20T18:19:38.362191Z",
          "iopub.execute_input": "2024-05-20T18:19:38.362885Z",
          "iopub.status.idle": "2024-05-20T18:19:38.369899Z",
          "shell.execute_reply.started": "2024-05-20T18:19:38.362851Z",
          "shell.execute_reply": "2024-05-20T18:19:38.368822Z"
        },
        "trusted": true
      },
      "execution_count": 14,
      "outputs": []
    },
    {
      "cell_type": "markdown",
      "source": [
        "## Confusion matrix"
      ],
      "metadata": {
        "id": "XL4ELVNmd51e"
      }
    },
    {
      "cell_type": "code",
      "source": [
        "predictions, labels = get_predictions_and_labels(model, test_dataloader, device)\n",
        "cm = confusion_matrix(labels.cpu().numpy(), predictions.cpu().numpy())"
      ],
      "metadata": {
        "colab": {
          "base_uri": "https://localhost:8080/"
        },
        "id": "WjmyOrQBd7tg",
        "outputId": "aa818cc2-13f1-4371-d7da-6c870fd018f4",
        "execution": {
          "iopub.status.busy": "2024-05-20T18:19:39.981178Z",
          "iopub.execute_input": "2024-05-20T18:19:39.981891Z",
          "iopub.status.idle": "2024-05-20T18:19:40.392245Z",
          "shell.execute_reply.started": "2024-05-20T18:19:39.981858Z",
          "shell.execute_reply": "2024-05-20T18:19:40.391144Z"
        },
        "trusted": true
      },
      "execution_count": 15,
      "outputs": [
        {
          "output_type": "stream",
          "name": "stderr",
          "text": [
            "40it [00:00, 74.19it/s]\n"
          ]
        }
      ]
    },
    {
      "cell_type": "code",
      "source": [
        "labels = [\"american\", \"australian\", \"bangla\", \"british\", \"indian\", \"malayalam\", \"odiya\", \"telugu\", \"welsh\"]\n",
        "\n",
        "df_cm = pd.DataFrame(cm, index = [i for i in labels],\n",
        "                  columns = [i for i in labels])\n",
        "plt.figure(figsize = (10, 8))\n",
        "sn.heatmap(df_cm, annot=True, fmt='g')\n",
        "# plt.savefig('/content/drive/MyDrive/licenta/confustionMatrix')"
      ],
      "metadata": {
        "colab": {
          "base_uri": "https://localhost:8080/",
          "height": 693
        },
        "id": "vZ4w8kbygIKA",
        "outputId": "5dfd246a-2020-4f9c-f738-a507a296e799",
        "execution": {
          "iopub.status.busy": "2024-05-20T18:19:52.735853Z",
          "iopub.execute_input": "2024-05-20T18:19:52.736220Z",
          "iopub.status.idle": "2024-05-20T18:19:53.310657Z",
          "shell.execute_reply.started": "2024-05-20T18:19:52.736190Z",
          "shell.execute_reply": "2024-05-20T18:19:53.309795Z"
        },
        "trusted": true
      },
      "execution_count": 16,
      "outputs": [
        {
          "output_type": "execute_result",
          "data": {
            "text/plain": [
              "<Axes: >"
            ]
          },
          "metadata": {},
          "execution_count": 16
        },
        {
          "output_type": "display_data",
          "data": {
            "text/plain": [
              "<Figure size 1000x800 with 2 Axes>"
            ],
            "image/png": "[encoded data removed]"
          },
          "metadata": {}
        }
      ]
    },
    {
      "cell_type": "markdown",
      "source": [
        "## Precision and recall"
      ],
      "metadata": {
        "id": "llS1Pc4EKRqG"
      }
    },
    {
      "cell_type": "code",
      "source": [
        "predictions, labels = get_predictions_and_labels(model, test_dataloader, device)\n",
        "predictions, labels = predictions.cpu(), labels.cpu()\n",
        "\n",
        "\n",
        "precision = precision_score(labels, predictions, average='macro')\n",
        "recall = recall_score(labels, predictions, average='macro')\n",
        "\n",
        "print()\n",
        "print(f'Macro Precision: {precision}')\n",
        "print(f'Macro Recall: {recall}')\n",
        "\n",
        "# Micro-averaged precision and recall\n",
        "precision_micro = precision_score(labels, predictions, average='micro')\n",
        "recall_micro = recall_score(labels, predictions, average='micro')\n",
        "\n",
        "print(f'Micro Precision: {precision_micro}')\n",
        "print(f'Micro Recall: {recall_micro}')"
      ],
      "metadata": {
        "id": "YJWD_cnDKUua",
        "outputId": "639775d2-cf08-4fb6-c2c3-b57e319fdc27",
        "colab": {
          "base_uri": "https://localhost:8080/"
        }
      },
      "execution_count": 17,
      "outputs": [
        {
          "output_type": "stream",
          "name": "stderr",
          "text": [
            "40it [00:00, 89.04it/s]"
          ]
        },
        {
          "output_type": "stream",
          "name": "stdout",
          "text": [
            "\n",
            "Macro Precision: 0.9918720346117458\n",
            "Macro Recall: 0.9858566099678795\n",
            "Micro Precision: 0.9875\n",
            "Micro Recall: 0.9875\n"
          ]
        },
        {
          "output_type": "stream",
          "name": "stderr",
          "text": [
            "\n"
          ]
        }
      ]
    },
    {
      "cell_type": "markdown",
      "source": [
        "## Accuracy and loss plot"
      ],
      "metadata": {
        "id": "6aGvNG7hj410"
      }
    },
    {
      "cell_type": "code",
      "source": [
        "epochs = range(1, hyperparams['num_epochs'] + 1)\n",
        "\n",
        "# Create a figure with 1 row and 2 columns\n",
        "plt.figure(figsize=(15, 5))\n",
        "\n",
        "# Plotting accuracy\n",
        "plt.subplot(1, 2, 1)\n",
        "plt.plot(epochs, train_accuracies, 'b', label='Training accuracy')\n",
        "plt.plot(epochs, val_accuracies, 'r', label='Validation accuracy')\n",
        "plt.title('Training and validation accuracy')\n",
        "plt.xlabel('Epochs')\n",
        "plt.ylabel('Accuracy')\n",
        "plt.legend()\n",
        "plt.grid(True)\n",
        "\n",
        "# Plotting loss\n",
        "plt.subplot(1, 2, 2)\n",
        "plt.plot(epochs, train_losses, 'b', label='Training loss')\n",
        "plt.plot(epochs, val_losses, 'r', label='Validation loss')\n",
        "plt.title('Training and validation loss')\n",
        "plt.xlabel('Epochs')\n",
        "plt.ylabel('Loss')\n",
        "plt.legend()\n",
        "plt.grid(True)\n",
        "\n",
        "# Display the plots\n",
        "plt.tight_layout()\n",
        "plt.show()"
      ],
      "metadata": {
        "id": "gUXAM6rOj7cS",
        "outputId": "df80e183-45a9-4530-dff5-261baf5ef566",
        "colab": {
          "base_uri": "https://localhost:8080/",
          "height": 507
        },
        "execution": {
          "iopub.status.busy": "2024-05-20T18:19:57.704474Z",
          "iopub.execute_input": "2024-05-20T18:19:57.704856Z",
          "iopub.status.idle": "2024-05-20T18:19:58.302023Z",
          "shell.execute_reply.started": "2024-05-20T18:19:57.704828Z",
          "shell.execute_reply": "2024-05-20T18:19:58.301078Z"
        },
        "trusted": true
      },
      "execution_count": 18,
      "outputs": [
        {
          "output_type": "display_data",
          "data": {
            "text/plain": [
              "<Figure size 1500x500 with 2 Axes>"
            ],
            "image/png": "[encoded data removed]"
          },
          "metadata": {}
        }
      ]
    }
  ]
}